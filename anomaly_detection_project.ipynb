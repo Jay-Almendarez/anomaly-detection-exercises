{
 "cells": [
  {
   "cell_type": "markdown",
   "id": "163f19f7-c614-4474-ad91-fc8cb35e0cc7",
   "metadata": {},
   "source": [
    "# Exercises"
   ]
  },
  {
   "cell_type": "code",
   "execution_count": 1,
   "id": "0c55a310-18be-4ca4-9226-1d4671b1690c",
   "metadata": {
    "tags": []
   },
   "outputs": [],
   "source": [
    "import pandas as pd\n",
    "import numpy as np\n",
    "import matplotlib.pyplot as plt\n",
    "import env\n",
    "import seaborn as sns\n",
    "from wrangle import wrangle_curr"
   ]
  },
  {
   "cell_type": "markdown",
   "id": "5adb9fe4-051c-47e7-913d-58ed818461d9",
   "metadata": {},
   "source": [
    "## Wrangle"
   ]
  },
  {
   "cell_type": "code",
   "execution_count": 2,
   "id": "3433b60a-6e45-486b-b1d6-48233b31d4e2",
   "metadata": {
    "tags": []
   },
   "outputs": [],
   "source": [
    "df = wrangle_curr()\n",
    "df"
   ]
  },
  {
   "cell_type": "markdown",
   "id": "9a1fb6ef-6c12-4bb4-91e5-a88a8e45eb65",
   "metadata": {},
   "source": [
    "### Now that our data is clean we can start answering our questions:"
   ]
  },
  {
   "cell_type": "markdown",
   "id": "6d7c2973-909b-4d7f-84f3-deef483f1e8d",
   "metadata": {},
   "source": [
    "## 1. Which lesson appears to attract the most traffic consistently across cohorts (per program)?"
   ]
  },
  {
   "cell_type": "code",
   "execution_count": 10,
   "id": "e9ef14be-ee00-48b5-a54f-631b8fc3dbc4",
   "metadata": {
    "tags": []
   },
   "outputs": [
    {
     "data": {
      "text/plain": [
       "path\n",
       "/                             39514\n",
       "toc                           16680\n",
       "javascript-i                  16386\n",
       "search/search_index.json      16185\n",
       "html-css                      11843\n",
       "                              ...  \n",
       "About_NLP                         1\n",
       "8.0_Intro_Module                  1\n",
       "introduction-to-matplotlib        1\n",
       "2.0_Intro_Stats                   1\n",
       "13.5_Tableau                      1\n",
       "Name: count, Length: 1844, dtype: int64"
      ]
     },
     "execution_count": 10,
     "metadata": {},
     "output_type": "execute_result"
    }
   ],
   "source": [
    "# let's get an initial look at top results before breaking them down by program\n",
    "df.path.value_counts()"
   ]
  },
  {
   "cell_type": "code",
   "execution_count": 11,
   "id": "7d3ba5db-73db-412b-9301-780a53bb5611",
   "metadata": {
    "tags": []
   },
   "outputs": [
    {
     "data": {
      "text/plain": [
       "path\n",
       "/                        1681\n",
       "index.html               1011\n",
       "javascript-i              736\n",
       "html-css                  542\n",
       "spring                    501\n",
       "                         ... \n",
       "4.0_overview                1\n",
       "4.1_introduction            1\n",
       "4.4_functions               1\n",
       "4.5_imports                 1\n",
       "ajax-api-request.html       1\n",
       "Name: count, Length: 710, dtype: int64"
      ]
     },
     "execution_count": 11,
     "metadata": {},
     "output_type": "execute_result"
    }
   ],
   "source": [
    "# looking at the highest occurence for our Web Dev PHP Program\n",
    "df.path[df.program == 'Web Dev - PHP'].value_counts()"
   ]
  },
  {
   "cell_type": "code",
   "execution_count": 12,
   "id": "69c619ac-89fa-4cda-ba8d-52a9090db61b",
   "metadata": {
    "tags": []
   },
   "outputs": [
    {
     "data": {
      "text/plain": [
       "path\n",
       "/                           29474\n",
       "toc                         16517\n",
       "javascript-i                15640\n",
       "search/search_index.json    13863\n",
       "java-iii                    11290\n",
       "                            ...  \n",
       "131                             1\n",
       "132                             1\n",
       "130                             1\n",
       "html-css/elecments              1\n",
       "spring/services                 1\n",
       "Name: count, Length: 1113, dtype: int64"
      ]
     },
     "execution_count": 12,
     "metadata": {},
     "output_type": "execute_result"
    }
   ],
   "source": [
    "# looking at the highest occurence for our Web Dev Java Program\n",
    "df.path[df.program == 'Web Dev - Java'].value_counts()"
   ]
  },
  {
   "cell_type": "code",
   "execution_count": 13,
   "id": "d955e33a-b372-421d-a032-6ba1b2838ce3",
   "metadata": {
    "tags": []
   },
   "outputs": [
    {
     "data": {
      "text/plain": [
       "path\n",
       "/                                           8358\n",
       "search/search_index.json                    2203\n",
       "classification/overview                     1785\n",
       "1-fundamentals/modern-data-scientist.jpg    1655\n",
       "1-fundamentals/AI-ML-DL-timeline.jpg        1651\n",
       "                                            ... \n",
       "python/custom-sorting-functions                1\n",
       "imports                                        1\n",
       "java-i/console-io                              1\n",
       "appendix/univariate_regression_in_excel        1\n",
       "6-regression/8-Project                         1\n",
       "Name: count, Length: 682, dtype: int64"
      ]
     },
     "execution_count": 13,
     "metadata": {},
     "output_type": "execute_result"
    }
   ],
   "source": [
    "# looking at the highest occurence for our Data Science Program\n",
    "df.path[df.program == 'Data Science'].value_counts()"
   ]
  },
  {
   "cell_type": "code",
   "execution_count": 14,
   "id": "b9d71f2d-db7a-4cb5-a54a-57fd2bf5773a",
   "metadata": {
    "tags": []
   },
   "outputs": [
    {
     "data": {
      "text/plain": [
       "path\n",
       "content/html-css                               2\n",
       "/                                              1\n",
       "content/html-css/gitbook/images/favicon.ico    1\n",
       "content/html-css/introduction.html             1\n",
       "Name: count, dtype: int64"
      ]
     },
     "execution_count": 14,
     "metadata": {},
     "output_type": "execute_result"
    }
   ],
   "source": [
    "# looking at the highest occurence for our Front End Web Dev Program\n",
    "df.path[df.program == 'Front End Web Dev'].value_counts()"
   ]
  },
  {
   "cell_type": "markdown",
   "id": "4b9dcc04-bd57-45d2-8b2f-386c9674f250",
   "metadata": {},
   "source": [
    "### We got varying results for our programs:\n",
    "- For both our Web Dev Java and Web Dev PHP programs, the javascript-i lesson has the highest amount of traffic. \n",
    "- For our Data Science programs, the Classification Overview appears to have the most hits. \n",
    "- Finally, for our Front End Web Dev (our newest program) we have our content introduction as first."
   ]
  },
  {
   "cell_type": "markdown",
   "id": "509535ee-9a37-4004-880e-8918138dd583",
   "metadata": {},
   "source": [
    "## 2. Is there a cohort that referred to a lesson significantly more than other cohorts seemed to gloss over?"
   ]
  },
  {
   "cell_type": "markdown",
   "id": "f0838a97-78e2-4b2d-92ab-420bcc312aa8",
   "metadata": {},
   "source": [
    "For this I'll need to break down hits by individual cohort, however, there is a disproportionationality present here, so I'd like to look at these cohorts by program as well."
   ]
  },
  {
   "cell_type": "code",
   "execution_count": 15,
   "id": "45f04bdb-1a66-4b2f-9244-a520edef7b7f",
   "metadata": {
    "tags": []
   },
   "outputs": [
    {
     "data": {
      "text/plain": [
       "cohort\n",
       "Ceres         40730\n",
       "Zion          38096\n",
       "Jupiter       37109\n",
       "Fortuna       36902\n",
       "Voyageurs     35636\n",
       "Ganymede      33844\n",
       "Apex          33568\n",
       "Deimos        32888\n",
       "Darden        32015\n",
       "Teddy         30926\n",
       "Hyperion      29855\n",
       "Betelgeuse    29356\n",
       "Ulysses       28534\n",
       "Europa        28033\n",
       "Xanadu        27749\n",
       "Bayes         26538\n",
       "Wrangell      25586\n",
       "Andromeda     25359\n",
       "Kalypso       23691\n",
       "Curie         21581\n",
       "Yosemite      20743\n",
       "Bash          17713\n",
       "Luna          16623\n",
       "Marco         16397\n",
       "Easley        14715\n",
       "Lassen         9587\n",
       "Arches         8890\n",
       "Florence       8562\n",
       "Sequoia        7444\n",
       "Neptune        7276\n",
       "Olympic        4954\n",
       "Kings          2845\n",
       "Pinnacles      2158\n",
       "Hampton        1712\n",
       "Oberon         1672\n",
       "Quincy         1237\n",
       "Niagara         755\n",
       "Mammoth         691\n",
       "Glacier         598\n",
       "Joshua          302\n",
       "Ike             253\n",
       "Badlands         93\n",
       "Franklin         72\n",
       "Apollo            5\n",
       "Denali            4\n",
       "Everglades        1\n",
       "Name: count, dtype: int64"
      ]
     },
     "execution_count": 15,
     "metadata": {},
     "output_type": "execute_result"
    }
   ],
   "source": [
    "# let's see all of the cohorts included in the data\n",
    "df.cohort.value_counts()"
   ]
  },
  {
   "cell_type": "code",
   "execution_count": 16,
   "id": "8c130a1f-8d6a-4b19-8323-9a9f4ba8ed9a",
   "metadata": {
    "tags": []
   },
   "outputs": [],
   "source": [
    "# first let's seperate the hits by program like we did before\n",
    "wdp = df[df.program == 'Web Dev - PHP']\n",
    "wdp_count = wdp.cohort.value_counts()\n",
    "wdj = df[df.program == 'Web Dev - Java']\n",
    "wdj_count = wdj.cohort.value_counts()\n",
    "ds = df[df.program == 'Data Science']\n",
    "ds_count = ds.cohort.value_counts()\n",
    "wdfe = df[df.program == 'Front End Web Dev']\n",
    "wdfe_count = wdfe.cohort.value_counts()\n",
    "# function that creates a for loop that iterates through range of cohorts present and displays top 5 results\n",
    "def top_five(cohort_list):\n",
    "    for c in cohort_list.index:\n",
    "        print(f'Top 5 Hits for {c} Cohort:\\n\\\n",
    "        {pd.DataFrame(df.path[df.cohort == c].value_counts().head(5))}\\n')"
   ]
  },
  {
   "cell_type": "code",
   "execution_count": 17,
   "id": "a1eb4f33-8703-47fd-94ac-cba9c49ad2c7",
   "metadata": {
    "tags": []
   },
   "outputs": [
    {
     "name": "stdout",
     "output_type": "stream",
     "text": [
      "Top 5 Hits for Lassen Cohort:\n",
      "                      count\n",
      "path               \n",
      "index.html      877\n",
      "javascript-i    233\n",
      "java-iii        224\n",
      "spring          222\n",
      "html-css        174\n",
      "\n",
      "Top 5 Hits for Arches Cohort:\n",
      "                       count\n",
      "path                \n",
      "/                626\n",
      "javascript-i     294\n",
      "html-css         215\n",
      "javascript-ii    204\n",
      "spring           192\n",
      "\n",
      "Top 5 Hits for Olympic Cohort:\n",
      "                        count\n",
      "path                 \n",
      "/                 249\n",
      "javascript-i      128\n",
      "java-i             76\n",
      "jquery             71\n",
      "java-i/methods     69\n",
      "\n",
      "Top 5 Hits for Kings Cohort:\n",
      "                                                          count\n",
      "path                                                   \n",
      "/                                                   219\n",
      "index.html                                           84\n",
      "content/laravel/intro                                83\n",
      "content/laravel/intro/application-structure.html     63\n",
      "content/laravel/intro/gitbook/images/favicon.ico     56\n",
      "\n",
      "Top 5 Hits for Hampton Cohort:\n",
      "                  count\n",
      "path           \n",
      "/           210\n",
      "java-iii     57\n",
      "appendix     55\n",
      "java-ii      46\n",
      "java-i       46\n",
      "\n",
      "Top 5 Hits for Quincy Cohort:\n",
      "                                                          count\n",
      "path                                                   \n",
      "/                                                   151\n",
      "content/laravel/intro                                38\n",
      "content/html-css                                     33\n",
      "content/laravel/intro/environment.html               31\n",
      "content/laravel/intro/application-structure.html     20\n",
      "\n",
      "Top 5 Hits for Glacier Cohort:\n",
      "                                                            count\n",
      "path                                                     \n",
      "/                                                      51\n",
      "content/html-css                                       29\n",
      "javascript-i/introduction/working-with-data-typ...     24\n",
      "html-css                                               21\n",
      "javascript-i/functions                                 20\n",
      "\n",
      "Top 5 Hits for Joshua Cohort:\n",
      "                                            count\n",
      "path                                     \n",
      "content/html-css                       19\n",
      "content/html-css/introduction.html     14\n",
      "content/javascript                     12\n",
      "content/mysql/intro-to-mysql           10\n",
      "content/html-css/elements.html          9\n",
      "\n",
      "Top 5 Hits for Ike Cohort:\n",
      "                               count\n",
      "path                        \n",
      "/                         19\n",
      "html-css                  12\n",
      "html-css/elements         11\n",
      "html-css/introduction     10\n",
      "content/html-css           9\n",
      "\n",
      "Top 5 Hits for Badlands Cohort:\n",
      "                                                     count\n",
      "path                                              \n",
      "/                                               17\n",
      "content/php_ii/command-line                      6\n",
      "content/php_ii/command-line/io-streams.html      5\n",
      "content/php_i                                    5\n",
      "content/php_ii/control-structures-i              5\n",
      "\n",
      "Top 5 Hits for Franklin Cohort:\n",
      "                             count\n",
      "path                      \n",
      "javascript-ii/es6       10\n",
      "/                        4\n",
      "java-i                   3\n",
      "java-iii/user-input      3\n",
      "java-iii                 3\n",
      "\n",
      "Top 5 Hits for Denali Cohort:\n",
      "                                   count\n",
      "path                            \n",
      "/                              1\n",
      "mkdocs/search_index.json       1\n",
      "prework/databases              1\n",
      "prework/versioning/github      1\n",
      "\n",
      "Top 5 Hits for Everglades Cohort:\n",
      "              count\n",
      "path       \n",
      "/         1\n",
      "\n"
     ]
    }
   ],
   "source": [
    "# calling the above function\n",
    "top_five(wdp_count)"
   ]
  },
  {
   "cell_type": "code",
   "execution_count": 18,
   "id": "f202868d-2f02-4a39-8561-deef8cfb2ecd",
   "metadata": {
    "tags": []
   },
   "outputs": [
    {
     "name": "stdout",
     "output_type": "stream",
     "text": [
      "Top 5 Hits for Ceres Cohort:\n",
      "                                  count\n",
      "path                           \n",
      "/                          1653\n",
      "search/search_index.json   1380\n",
      "javascript-i               1003\n",
      "toc                         911\n",
      "html-css                    766\n",
      "\n",
      "Top 5 Hits for Zion Cohort:\n",
      "                                  count\n",
      "path                           \n",
      "/                          1798\n",
      "toc                        1465\n",
      "javascript-i                897\n",
      "java-iii                    753\n",
      "search/search_index.json    700\n",
      "\n",
      "Top 5 Hits for Jupiter Cohort:\n",
      "                                  count\n",
      "path                           \n",
      "toc                        1866\n",
      "/                          1696\n",
      "search/search_index.json    998\n",
      "javascript-i                926\n",
      "java-iii                    795\n",
      "\n",
      "Top 5 Hits for Fortuna Cohort:\n",
      "                                  count\n",
      "path                           \n",
      "/                          2038\n",
      "toc                        1293\n",
      "search/search_index.json   1020\n",
      "java-iii                    786\n",
      "javascript-i                785\n",
      "\n",
      "Top 5 Hits for Voyageurs Cohort:\n",
      "                      count\n",
      "path               \n",
      "/              2101\n",
      "javascript-i    884\n",
      "java-iii        770\n",
      "java-ii         756\n",
      "mysql           663\n",
      "\n",
      "Top 5 Hits for Ganymede Cohort:\n",
      "                                  count\n",
      "path                           \n",
      "/                          1727\n",
      "search/search_index.json   1095\n",
      "toc                         822\n",
      "javascript-i                760\n",
      "java-iii                    651\n",
      "\n",
      "Top 5 Hits for Apex Cohort:\n",
      "                                  count\n",
      "path                           \n",
      "search/search_index.json   1497\n",
      "/                          1346\n",
      "toc                         810\n",
      "html-css                    738\n",
      "javascript-i                669\n",
      "\n",
      "Top 5 Hits for Deimos Cohort:\n",
      "                                  count\n",
      "path                           \n",
      "/                          1467\n",
      "javascript-i                896\n",
      "html-css                    773\n",
      "toc                         750\n",
      "search/search_index.json    746\n",
      "\n",
      "Top 5 Hits for Teddy Cohort:\n",
      "                      count\n",
      "path               \n",
      "/              1828\n",
      "spring          744\n",
      "java-iii        732\n",
      "mysql           638\n",
      "javascript-i    615\n",
      "\n",
      "Top 5 Hits for Hyperion Cohort:\n",
      "                      count\n",
      "path               \n",
      "/              1365\n",
      "toc            1022\n",
      "javascript-i    910\n",
      "java-iii        701\n",
      "java-ii         688\n",
      "\n",
      "Top 5 Hits for Betelgeuse Cohort:\n",
      "                                  count\n",
      "path                           \n",
      "/                           955\n",
      "search/search_index.json    761\n",
      "javascript-i                717\n",
      "toc                         610\n",
      "jquery                      542\n",
      "\n",
      "Top 5 Hits for Ulysses Cohort:\n",
      "                                  count\n",
      "path                           \n",
      "/                          1641\n",
      "mkdocs/search_index.json    721\n",
      "html-css                    562\n",
      "javascript-i                526\n",
      "java-ii                     425\n",
      "\n",
      "Top 5 Hits for Europa Cohort:\n",
      "                                  count\n",
      "path                           \n",
      "/                          1295\n",
      "toc                         964\n",
      "search/search_index.json    742\n",
      "javascript-i                506\n",
      "java-iii                    451\n",
      "\n",
      "Top 5 Hits for Xanadu Cohort:\n",
      "                                  count\n",
      "path                           \n",
      "/                           924\n",
      "javascript-i                722\n",
      "html-css                    597\n",
      "search/search_index.json    577\n",
      "jquery                      544\n",
      "\n",
      "Top 5 Hits for Wrangell Cohort:\n",
      "                                  count\n",
      "path                           \n",
      "/                          1132\n",
      "toc                         991\n",
      "javascript-i                560\n",
      "search/search_index.json    504\n",
      "html-css                    411\n",
      "\n",
      "Top 5 Hits for Andromeda Cohort:\n",
      "                      count\n",
      "path               \n",
      "/              1174\n",
      "toc             638\n",
      "javascript-i    516\n",
      "spring          487\n",
      "java-iii        433\n",
      "\n",
      "Top 5 Hits for Kalypso Cohort:\n",
      "                      count\n",
      "path               \n",
      "/               939\n",
      "javascript-i    631\n",
      "html-css        495\n",
      "toc             495\n",
      "jquery          470\n",
      "\n",
      "Top 5 Hits for Yosemite Cohort:\n",
      "                      count\n",
      "path               \n",
      "/               981\n",
      "toc             697\n",
      "javascript-i    452\n",
      "html-css        384\n",
      "spring          381\n",
      "\n",
      "Top 5 Hits for Bash Cohort:\n",
      "                                  count\n",
      "path                           \n",
      "/                           772\n",
      "search/search_index.json    660\n",
      "toc                         404\n",
      "javascript-i                374\n",
      "java-iii                    324\n",
      "\n",
      "Top 5 Hits for Luna Cohort:\n",
      "                                                            count\n",
      "path                                                     \n",
      "javascript-i                                          676\n",
      "/                                                     491\n",
      "search/search_index.json                              405\n",
      "toc                                                   373\n",
      "javascript-i/introduction/working-with-data-typ...    315\n",
      "\n",
      "Top 5 Hits for Marco Cohort:\n",
      "                                                            count\n",
      "path                                                     \n",
      "toc                                                   910\n",
      "javascript-i                                          907\n",
      "/                                                     699\n",
      "javascript-i/introduction/working-with-data-typ...    505\n",
      "html-css                                              479\n",
      "\n",
      "Top 5 Hits for Sequoia Cohort:\n",
      "                                         count\n",
      "path                                  \n",
      "/                                  630\n",
      "spring                             364\n",
      "spring/fundamentals/views          207\n",
      "javascript-i                       202\n",
      "spring/fundamentals/controllers    190\n",
      "\n",
      "Top 5 Hits for Neptune Cohort:\n",
      "                                                            count\n",
      "path                                                     \n",
      "/                                                     472\n",
      "toc                                                   451\n",
      "javascript-i/introduction/working-with-data-typ...    329\n",
      "html-css                                              313\n",
      "javascript-i/javascript-with-html                     311\n",
      "\n",
      "Top 5 Hits for Pinnacles Cohort:\n",
      "                       count\n",
      "path                \n",
      "/                149\n",
      "javascript-i      69\n",
      "javascript-ii     58\n",
      "spring            56\n",
      "html-css          56\n",
      "\n",
      "Top 5 Hits for Oberon Cohort:\n",
      "                                                            count\n",
      "path                                                     \n",
      "javascript-i/introduction/operators                   179\n",
      "javascript-i/introduction/primitive-types             177\n",
      "javascript-i/functions                                171\n",
      "javascript-i/introduction/working-with-data-typ...    146\n",
      "javascript-i/conditionals                             144\n",
      "\n",
      "Top 5 Hits for Niagara Cohort:\n",
      "                    count\n",
      "path             \n",
      "spring         65\n",
      "index.html     63\n",
      "/              37\n",
      "java-iii       29\n",
      "mysql          24\n",
      "\n",
      "Top 5 Hits for Mammoth Cohort:\n",
      "                                         count\n",
      "path                                  \n",
      "/                                   33\n",
      "java-i                              19\n",
      "java-iii                            13\n",
      "spring/fundamentals/controllers     12\n",
      "spring                              12\n",
      "\n"
     ]
    }
   ],
   "source": [
    "top_five(wdj_count)"
   ]
  },
  {
   "cell_type": "code",
   "execution_count": 19,
   "id": "4aafaf38-4393-4227-8f4c-92e0268296cc",
   "metadata": {
    "tags": []
   },
   "outputs": [
    {
     "name": "stdout",
     "output_type": "stream",
     "text": [
      "Top 5 Hits for Darden Cohort:\n",
      "                                                  count\n",
      "path                                           \n",
      "/                                          2980\n",
      "classification/overview                    1109\n",
      "classification/scale_features_or_not.svg    943\n",
      "sql/mysql-overview                          774\n",
      "search/search_index.json                    664\n",
      "\n",
      "Top 5 Hits for Bayes Cohort:\n",
      "                                                  count\n",
      "path                                           \n",
      "/                                          1967\n",
      "1-fundamentals/modern-data-scientist.jpg    650\n",
      "1-fundamentals/AI-ML-DL-timeline.jpg        648\n",
      "1-fundamentals/1.1-intro-to-data-science    640\n",
      "search/search_index.json                    588\n",
      "\n",
      "Top 5 Hits for Curie Cohort:\n",
      "                                                  count\n",
      "path                                           \n",
      "/                                          1712\n",
      "6-regression/1-overview                     595\n",
      "search/search_index.json                    538\n",
      "1-fundamentals/modern-data-scientist.jpg    467\n",
      "1-fundamentals/AI-ML-DL-timeline.jpg        465\n",
      "\n",
      "Top 5 Hits for Easley Cohort:\n",
      "                                                            count\n",
      "path                                                     \n",
      "/                                                    1115\n",
      "classification/scale_features_or_not.svg              463\n",
      "classification/overview                               445\n",
      "classification/classical_programming_vs_machine...    432\n",
      "fundamentals/AI-ML-DL-timeline.jpg                    381\n",
      "\n",
      "Top 5 Hits for Florence Cohort:\n",
      "                                                count\n",
      "path                                         \n",
      "fundamentals/modern-data-scientist.jpg    627\n",
      "fundamentals/AI-ML-DL-timeline.jpg        624\n",
      "fundamentals/intro-to-data-science        615\n",
      "/                                         584\n",
      "python/data-types-and-variables           258\n",
      "\n"
     ]
    }
   ],
   "source": [
    "top_five(ds_count)"
   ]
  },
  {
   "cell_type": "code",
   "execution_count": 20,
   "id": "c0dc1ada-224d-48e7-abbe-c679e8377670",
   "metadata": {
    "tags": []
   },
   "outputs": [
    {
     "name": "stdout",
     "output_type": "stream",
     "text": [
      "Top 5 Hits for Apollo Cohort:\n",
      "                                                     count\n",
      "path                                              \n",
      "content/html-css                                 2\n",
      "/                                                1\n",
      "content/html-css/gitbook/images/favicon.ico      1\n",
      "content/html-css/introduction.html               1\n",
      "\n"
     ]
    }
   ],
   "source": [
    "top_five(wdfe_count)"
   ]
  },
  {
   "cell_type": "markdown",
   "id": "25bb3574-a2ee-4b61-943b-ea5a104266a7",
   "metadata": {},
   "source": [
    "Web Dev PHP"
   ]
  },
  {
   "cell_type": "markdown",
   "id": "8d45239b-2a12-4ef5-8686-32fa0e2e8108",
   "metadata": {},
   "source": [
    "| Cohort | Top Lesson |\n",
    "| :- | :- |\n",
    "| Lassen | javascript-i |\n",
    "| Arches | javascript-i |\n",
    "| Olympic | javascript-i | \n",
    "| Kings | content/laravel/intro |\n",
    "| Hampton | java-iii |\n",
    "| Quincy | content/laravel/intro |\n",
    "| Glacier | content/html-css |\n",
    "| Joshua | content/html-css |\n",
    "| Ike | content/html-css |\n",
    "| Badlands | content/php_ii/command-line |\n",
    "| Franklin | javascript-ii/es6 |\n",
    "| Denali | prework/databases |"
   ]
  },
  {
   "cell_type": "markdown",
   "id": "9e879495-de85-49e7-918a-e182f39f11d4",
   "metadata": {},
   "source": [
    "Web Dev Java"
   ]
  },
  {
   "cell_type": "markdown",
   "id": "dd2ac5fe-9a3e-473b-8df0-2efb83e09dc9",
   "metadata": {},
   "source": [
    "| Cohort | Top Lesson |\n",
    "| :- | :- |\n",
    "| Ceres | javascript-i |\n",
    "| Zion | javascript-i |\n",
    "| Jupiter | javascript-i |\n",
    "| Fortuna | java-iii |\n",
    "| Voyageurs | javascript-i |\n",
    "| Ganymede | javascript-i |\n",
    "| Apex | javascript-i |\n",
    "| Deimos | javascript-i |\n",
    "| Teddy | java-iii |\n",
    "| Hyperion | javascript-i |\n",
    "| Betelgeuse | javascript-i |\n",
    "| Ulysses | javascript-i |\n",
    "| Europa | javascript-i |\n",
    "| Xanadu | javascript-i |\n",
    "| Wrangell | javascript-i |\n",
    "| Andromeda | javascript-i |\n",
    "| Kalypso | javascript-i |\n",
    "| Yosemite | javascript-i |\n",
    "| Bash | javascript-i |\n",
    "| Luna | javascript-i |\n",
    "| Marco | javascript-i |\n",
    "| Sequoia | spring |\n",
    "| Neptune | javascript-i/introduction/working-with-data-types-operators-and-variables |\n",
    "| Pinnacles | javascript-i |\n",
    "| Oberon | javascript-i/introduction/operators |\n",
    "| Niagara | spring |\n",
    "| Mammoth | java-i |"
   ]
  },
  {
   "cell_type": "markdown",
   "id": "789bfc4b-6c97-4d7f-9de8-f96abb313e1b",
   "metadata": {},
   "source": [
    "Data Science"
   ]
  },
  {
   "cell_type": "markdown",
   "id": "46fb1b56-4827-4827-99ad-fa10c1e46407",
   "metadata": {},
   "source": [
    "| Cohort | Top Lesson |\n",
    "| :- | :- |\n",
    "| Darden | classification/overview |\n",
    "| Bayes | 1-fundamentals/1.1-intro-to-data-science |\n",
    "| Curie | 6-regression/1-overview |\n",
    "| Easley | classification/overview |\n",
    "| Florence | fundamentals/intro-to-data-science |"
   ]
  },
  {
   "cell_type": "markdown",
   "id": "5a7c97dc-be87-48bf-bf95-5db6038b31f0",
   "metadata": {},
   "source": [
    "Front End Web Dev"
   ]
  },
  {
   "cell_type": "markdown",
   "id": "1ecb091c-f199-4f1a-a786-b790d5d13e56",
   "metadata": {},
   "source": [
    "| Cohort | Top Lesson |\n",
    "| :- | :- |\n",
    "| Apollo | content/html-css |"
   ]
  },
  {
   "cell_type": "markdown",
   "id": "3f83ee10-788c-4fd2-b2b5-37945c7584f2",
   "metadata": {},
   "source": [
    "### Web Dev Cohorts\n",
    "- The Neptune and Oberon web dev cohorts had the most anomalous hits on lessons. \n",
    "- Neptune had javascript-i/introduction/working-with-data-types-operators-and-variables as it's most hit lesson. \n",
    "- Oberon had javascript-i/introduction/operators as it's most hit lesson."
   ]
  },
  {
   "cell_type": "markdown",
   "id": "2759991a-0793-44ee-b376-ad0423cf3653",
   "metadata": {},
   "source": [
    "#### From my understanding, these two lessons are within the introductory stage of the javascript-i so it's odd the sublesson has more pings than the overarching lesson."
   ]
  },
  {
   "cell_type": "markdown",
   "id": "9c163c7d-e4af-4cc5-bc17-87273afd72aa",
   "metadata": {},
   "source": [
    "### Data Science Cohorts"
   ]
  },
  {
   "cell_type": "markdown",
   "id": "7ff2dce6-d0dd-4601-96d2-82d668207884",
   "metadata": {},
   "source": [
    "#### The Curie cohort had the most anomalous lesson ping with regression overview, no other data science cohort had this in their top results"
   ]
  },
  {
   "cell_type": "markdown",
   "id": "8484be2e-f84a-4255-b755-e583263c22b6",
   "metadata": {},
   "source": [
    "## 3. Are there students who, when active, hardly access the curriculum? If so, what information do you have about these students?"
   ]
  },
  {
   "cell_type": "markdown",
   "id": "d16b561e-2c06-483a-b2e2-9ec7d64baaa6",
   "metadata": {},
   "source": [
    "- To answer this question we're going to have to take a look at individual users and determine frequency of pings between active dates.\n",
    "- We'll also look at this separated by program\n",
    "- We also need to define \"hardly\", considering its a multiple month long course, I'd say less than 30 times would be considered \"hardly\" "
   ]
  },
  {
   "cell_type": "code",
   "execution_count": 21,
   "id": "feb6bfe8-0939-4e2b-81c6-a0cca9eeea23",
   "metadata": {
    "tags": []
   },
   "outputs": [
    {
     "data": {
      "text/html": [
       "<div>\n",
       "<style scoped>\n",
       "    .dataframe tbody tr th:only-of-type {\n",
       "        vertical-align: middle;\n",
       "    }\n",
       "\n",
       "    .dataframe tbody tr th {\n",
       "        vertical-align: top;\n",
       "    }\n",
       "\n",
       "    .dataframe thead th {\n",
       "        text-align: right;\n",
       "    }\n",
       "</style>\n",
       "<table border=\"1\" class=\"dataframe\">\n",
       "  <thead>\n",
       "    <tr style=\"text-align: right;\">\n",
       "      <th></th>\n",
       "      <th>path</th>\n",
       "      <th>user</th>\n",
       "      <th>ip</th>\n",
       "      <th>cohort</th>\n",
       "      <th>start_date</th>\n",
       "      <th>end_date</th>\n",
       "      <th>program</th>\n",
       "    </tr>\n",
       "    <tr>\n",
       "      <th>created_at</th>\n",
       "      <th></th>\n",
       "      <th></th>\n",
       "      <th></th>\n",
       "      <th></th>\n",
       "      <th></th>\n",
       "      <th></th>\n",
       "      <th></th>\n",
       "    </tr>\n",
       "  </thead>\n",
       "  <tbody>\n",
       "    <tr>\n",
       "      <th>2016-06-14 19:52:26</th>\n",
       "      <td>/</td>\n",
       "      <td>1</td>\n",
       "      <td>97.105.19.61</td>\n",
       "      <td>Hampton</td>\n",
       "      <td>2015-09-22</td>\n",
       "      <td>2016-02-06</td>\n",
       "      <td>Web Dev - PHP</td>\n",
       "    </tr>\n",
       "    <tr>\n",
       "      <th>2016-06-14 19:52:26</th>\n",
       "      <td>java-ii</td>\n",
       "      <td>1</td>\n",
       "      <td>97.105.19.61</td>\n",
       "      <td>Hampton</td>\n",
       "      <td>2015-09-22</td>\n",
       "      <td>2016-02-06</td>\n",
       "      <td>Web Dev - PHP</td>\n",
       "    </tr>\n",
       "    <tr>\n",
       "      <th>2016-06-14 19:52:26</th>\n",
       "      <td>java-ii/object-oriented-programming</td>\n",
       "      <td>1</td>\n",
       "      <td>97.105.19.61</td>\n",
       "      <td>Hampton</td>\n",
       "      <td>2015-09-22</td>\n",
       "      <td>2016-02-06</td>\n",
       "      <td>Web Dev - PHP</td>\n",
       "    </tr>\n",
       "    <tr>\n",
       "      <th>2016-06-14 19:52:26</th>\n",
       "      <td>slides/object_oriented_programming</td>\n",
       "      <td>1</td>\n",
       "      <td>97.105.19.61</td>\n",
       "      <td>Hampton</td>\n",
       "      <td>2015-09-22</td>\n",
       "      <td>2016-02-06</td>\n",
       "      <td>Web Dev - PHP</td>\n",
       "    </tr>\n",
       "    <tr>\n",
       "      <th>2018-01-08 13:59:10</th>\n",
       "      <td>javascript-i/conditionals</td>\n",
       "      <td>2</td>\n",
       "      <td>97.105.19.61</td>\n",
       "      <td>Teddy</td>\n",
       "      <td>2018-01-08</td>\n",
       "      <td>2018-05-17</td>\n",
       "      <td>Web Dev - Java</td>\n",
       "    </tr>\n",
       "    <tr>\n",
       "      <th>...</th>\n",
       "      <td>...</td>\n",
       "      <td>...</td>\n",
       "      <td>...</td>\n",
       "      <td>...</td>\n",
       "      <td>...</td>\n",
       "      <td>...</td>\n",
       "      <td>...</td>\n",
       "    </tr>\n",
       "    <tr>\n",
       "      <th>2021-01-20 21:31:11</th>\n",
       "      <td>jquery/personal-site</td>\n",
       "      <td>869</td>\n",
       "      <td>136.50.98.51</td>\n",
       "      <td>Marco</td>\n",
       "      <td>2021-01-25</td>\n",
       "      <td>2021-07-19</td>\n",
       "      <td>Web Dev - Java</td>\n",
       "    </tr>\n",
       "    <tr>\n",
       "      <th>2021-03-15 19:57:09</th>\n",
       "      <td>html-css/css-ii/bootstrap-grid-system</td>\n",
       "      <td>948</td>\n",
       "      <td>104.48.214.211</td>\n",
       "      <td>Neptune</td>\n",
       "      <td>2021-03-15</td>\n",
       "      <td>2021-09-03</td>\n",
       "      <td>Web Dev - Java</td>\n",
       "    </tr>\n",
       "    <tr>\n",
       "      <th>2020-12-07 16:58:43</th>\n",
       "      <td>java-iii</td>\n",
       "      <td>834</td>\n",
       "      <td>67.11.50.23</td>\n",
       "      <td>Luna</td>\n",
       "      <td>2020-12-07</td>\n",
       "      <td>2021-06-08</td>\n",
       "      <td>Web Dev - Java</td>\n",
       "    </tr>\n",
       "    <tr>\n",
       "      <th>2020-12-07 16:58:43</th>\n",
       "      <td>java-iii/servlets</td>\n",
       "      <td>834</td>\n",
       "      <td>67.11.50.23</td>\n",
       "      <td>Luna</td>\n",
       "      <td>2020-12-07</td>\n",
       "      <td>2021-06-08</td>\n",
       "      <td>Web Dev - Java</td>\n",
       "    </tr>\n",
       "    <tr>\n",
       "      <th>2021-01-20 21:31:11</th>\n",
       "      <td>javascript-i/bom-and-dom/dom</td>\n",
       "      <td>875</td>\n",
       "      <td>24.242.150.231</td>\n",
       "      <td>Marco</td>\n",
       "      <td>2021-01-25</td>\n",
       "      <td>2021-07-19</td>\n",
       "      <td>Web Dev - Java</td>\n",
       "    </tr>\n",
       "  </tbody>\n",
       "</table>\n",
       "<p>763298 rows × 7 columns</p>\n",
       "</div>"
      ],
      "text/plain": [
       "                                                      path  user  \\\n",
       "created_at                                                         \n",
       "2016-06-14 19:52:26                                      /     1   \n",
       "2016-06-14 19:52:26                                java-ii     1   \n",
       "2016-06-14 19:52:26    java-ii/object-oriented-programming     1   \n",
       "2016-06-14 19:52:26     slides/object_oriented_programming     1   \n",
       "2018-01-08 13:59:10              javascript-i/conditionals     2   \n",
       "...                                                    ...   ...   \n",
       "2021-01-20 21:31:11                   jquery/personal-site   869   \n",
       "2021-03-15 19:57:09  html-css/css-ii/bootstrap-grid-system   948   \n",
       "2020-12-07 16:58:43                               java-iii   834   \n",
       "2020-12-07 16:58:43                      java-iii/servlets   834   \n",
       "2021-01-20 21:31:11           javascript-i/bom-and-dom/dom   875   \n",
       "\n",
       "                                 ip   cohort start_date   end_date  \\\n",
       "created_at                                                           \n",
       "2016-06-14 19:52:26    97.105.19.61  Hampton 2015-09-22 2016-02-06   \n",
       "2016-06-14 19:52:26    97.105.19.61  Hampton 2015-09-22 2016-02-06   \n",
       "2016-06-14 19:52:26    97.105.19.61  Hampton 2015-09-22 2016-02-06   \n",
       "2016-06-14 19:52:26    97.105.19.61  Hampton 2015-09-22 2016-02-06   \n",
       "2018-01-08 13:59:10    97.105.19.61    Teddy 2018-01-08 2018-05-17   \n",
       "...                             ...      ...        ...        ...   \n",
       "2021-01-20 21:31:11    136.50.98.51    Marco 2021-01-25 2021-07-19   \n",
       "2021-03-15 19:57:09  104.48.214.211  Neptune 2021-03-15 2021-09-03   \n",
       "2020-12-07 16:58:43     67.11.50.23     Luna 2020-12-07 2021-06-08   \n",
       "2020-12-07 16:58:43     67.11.50.23     Luna 2020-12-07 2021-06-08   \n",
       "2021-01-20 21:31:11  24.242.150.231    Marco 2021-01-25 2021-07-19   \n",
       "\n",
       "                            program  \n",
       "created_at                           \n",
       "2016-06-14 19:52:26   Web Dev - PHP  \n",
       "2016-06-14 19:52:26   Web Dev - PHP  \n",
       "2016-06-14 19:52:26   Web Dev - PHP  \n",
       "2016-06-14 19:52:26   Web Dev - PHP  \n",
       "2018-01-08 13:59:10  Web Dev - Java  \n",
       "...                             ...  \n",
       "2021-01-20 21:31:11  Web Dev - Java  \n",
       "2021-03-15 19:57:09  Web Dev - Java  \n",
       "2020-12-07 16:58:43  Web Dev - Java  \n",
       "2020-12-07 16:58:43  Web Dev - Java  \n",
       "2021-01-20 21:31:11  Web Dev - Java  \n",
       "\n",
       "[763298 rows x 7 columns]"
      ]
     },
     "execution_count": 21,
     "metadata": {},
     "output_type": "execute_result"
    }
   ],
   "source": [
    "# let's remind ourselves what the data looks like\n",
    "df"
   ]
  },
  {
   "cell_type": "code",
   "execution_count": 22,
   "id": "8a8d2278-9f79-4498-ad2b-ff63eee1f1e5",
   "metadata": {
    "tags": []
   },
   "outputs": [
    {
     "data": {
      "text/plain": [
       "path                  object\n",
       "user                   int64\n",
       "ip                    object\n",
       "cohort                object\n",
       "start_date    datetime64[ns]\n",
       "end_date      datetime64[ns]\n",
       "program               object\n",
       "dtype: object"
      ]
     },
     "execution_count": 22,
     "metadata": {},
     "output_type": "execute_result"
    }
   ],
   "source": [
    "# let's make sure our data types are right for the next steps\n",
    "df.dtypes"
   ]
  },
  {
   "cell_type": "code",
   "execution_count": 23,
   "id": "b30b7b36-c370-46c2-8391-35f5f8f9549f",
   "metadata": {
    "tags": []
   },
   "outputs": [
    {
     "data": {
      "text/plain": [
       "Series([], Name: count, dtype: int64)"
      ]
     },
     "execution_count": 23,
     "metadata": {},
     "output_type": "execute_result"
    }
   ],
   "source": [
    "df.user[(df.index < df.end_date) & (df.index > df.start_date) & (df.program == 'Front End Web Dev')].value_counts()"
   ]
  },
  {
   "cell_type": "markdown",
   "id": "14b271cb-65d0-4383-b1b6-366ed072a0f5",
   "metadata": {},
   "source": [
    "There appear to be no cases where an active student in the front end web dev program accessed the course material"
   ]
  },
  {
   "cell_type": "code",
   "execution_count": 24,
   "id": "99c2d25e-58f2-4856-9077-f4426fca0eed",
   "metadata": {
    "tags": []
   },
   "outputs": [],
   "source": [
    "# let's look at the amount of pings per user while they're in the web dev - PHP program\n",
    "t_loc = (df.user[(df.index < df.end_date) & (df.index > df.start_date) & (df.program == 'Web Dev - PHP')].value_counts()< 30)\n",
    "brains_wdp = t_loc.index[t_loc]\n",
    "\n",
    "# let's look at the amount of pings per user while they're in the web dev - Java program\n",
    "t_loc = df.user[(df.index < df.end_date) & (df.index > df.start_date) & (df.program == 'Web Dev - Java')].value_counts()<30\n",
    "brains_wdj = t_loc.index[t_loc]\n",
    "\n",
    "# let's look at the amount of pings per user while they're in the data science program\n",
    "t_loc = df.user[(df.index < df.end_date) & (df.index > df.start_date) & (df.program == 'Data Science')].value_counts()<30\n",
    "brains_ds = t_loc.index[t_loc]"
   ]
  },
  {
   "cell_type": "code",
   "execution_count": 25,
   "id": "77991c64-b67c-4026-ae35-f14b31987fd3",
   "metadata": {
    "tags": []
   },
   "outputs": [
    {
     "data": {
      "text/plain": [
       "cohort\n",
       "Joshua    25\n",
       "Name: count, dtype: int64"
      ]
     },
     "execution_count": 25,
     "metadata": {},
     "output_type": "execute_result"
    }
   ],
   "source": [
    "df.cohort[df.user == 214].value_counts()"
   ]
  },
  {
   "cell_type": "code",
   "execution_count": 26,
   "id": "26e74cc9-39f0-48eb-89ef-17755efbf6b2",
   "metadata": {
    "tags": []
   },
   "outputs": [],
   "source": [
    "def whos_kid(brainiacs):\n",
    "    '''\n",
    "    whos_kid will determine user who accessed the course content less than 30 times throughout their time there and inform us of the cohort they belong to.\n",
    "    \n",
    "    '''\n",
    "    for i in brainiacs:\n",
    "        print(f'User {i} belongs to the {df.cohort[df.user == i].value_counts().index}:\\n')"
   ]
  },
  {
   "cell_type": "markdown",
   "id": "bee3983c-515d-4fb6-884e-1020da4970c1",
   "metadata": {},
   "source": [
    "### Web Dev Cohorts"
   ]
  },
  {
   "cell_type": "code",
   "execution_count": 27,
   "id": "f49f0a4b-3829-443e-9f0d-c54da836c442",
   "metadata": {
    "tags": []
   },
   "outputs": [
    {
     "data": {
      "text/plain": [
       "Index(['Lassen', 'Arches', 'Olympic', 'Kings', 'Hampton', 'Quincy', 'Glacier',\n",
       "       'Joshua', 'Ike', 'Badlands', 'Franklin', 'Denali', 'Everglades'],\n",
       "      dtype='object', name='cohort')"
      ]
     },
     "execution_count": 27,
     "metadata": {},
     "output_type": "execute_result"
    }
   ],
   "source": [
    "# listing possible web dev php cohorts\n",
    "df.cohort[df.program == 'Web Dev - PHP'].value_counts().index"
   ]
  },
  {
   "cell_type": "code",
   "execution_count": 28,
   "id": "a97b4361-7b94-48ee-aece-ff528c2be97e",
   "metadata": {
    "tags": []
   },
   "outputs": [
    {
     "name": "stdout",
     "output_type": "stream",
     "text": [
      "User 214 belongs to the Index(['Joshua'], dtype='object', name='cohort'):\n",
      "\n",
      "User 610 belongs to the Index(['Quincy'], dtype='object', name='cohort'):\n",
      "\n",
      "User 140 belongs to the Index(['Olympic'], dtype='object', name='cohort'):\n",
      "\n",
      "User 151 belongs to the Index(['Olympic'], dtype='object', name='cohort'):\n",
      "\n",
      "User 318 belongs to the Index(['Kings'], dtype='object', name='cohort'):\n",
      "\n",
      "User 311 belongs to the Index(['Quincy'], dtype='object', name='cohort'):\n",
      "\n",
      "User 92 belongs to the Index(['Quincy'], dtype='object', name='cohort'):\n",
      "\n",
      "User 161 belongs to the Index(['Joshua'], dtype='object', name='cohort'):\n",
      "\n",
      "User 88 belongs to the Index(['Glacier', 'Joshua', 'Ike'], dtype='object', name='cohort'):\n",
      "\n",
      "User 399 belongs to the Index(['Quincy'], dtype='object', name='cohort'):\n",
      "\n",
      "User 82 belongs to the Index(['Lassen'], dtype='object', name='cohort'):\n",
      "\n",
      "User 71 belongs to the Index(['Quincy'], dtype='object', name='cohort'):\n",
      "\n",
      "User 246 belongs to the Index(['Lassen'], dtype='object', name='cohort'):\n",
      "\n",
      "User 852 belongs to the Index(['Lassen'], dtype='object', name='cohort'):\n",
      "\n",
      "User 593 belongs to the Index(['Lassen'], dtype='object', name='cohort'):\n",
      "\n",
      "User 163 belongs to the Index(['Quincy'], dtype='object', name='cohort'):\n",
      "\n",
      "User 66 belongs to the Index(['Kings'], dtype='object', name='cohort'):\n",
      "\n",
      "User 952 belongs to the Index(['Olympic'], dtype='object', name='cohort'):\n",
      "\n"
     ]
    }
   ],
   "source": [
    "whos_kid(brains_wdp)"
   ]
  },
  {
   "cell_type": "markdown",
   "id": "01dfa239-fa82-442f-9194-e57799b46fe1",
   "metadata": {},
   "source": [
    "Web Dev PHP Tally Scores:\n",
    "\n",
    "Joshua II\n",
    "\n",
    "Quincy VI\n",
    "\n",
    "Olympic III\n",
    "\n",
    "Kings II\n",
    "\n",
    "Glacier I\n",
    "\n",
    "Lassen IIII"
   ]
  },
  {
   "cell_type": "code",
   "execution_count": 29,
   "id": "b2690712-2960-4330-b643-de3cf5e3ce99",
   "metadata": {
    "tags": []
   },
   "outputs": [
    {
     "data": {
      "text/plain": [
       "Index(['Ceres', 'Zion', 'Jupiter', 'Fortuna', 'Voyageurs', 'Ganymede', 'Apex',\n",
       "       'Deimos', 'Teddy', 'Hyperion', 'Betelgeuse', 'Ulysses', 'Europa',\n",
       "       'Xanadu', 'Wrangell', 'Andromeda', 'Kalypso', 'Yosemite', 'Bash',\n",
       "       'Luna', 'Marco', 'Sequoia', 'Neptune', 'Pinnacles', 'Oberon', 'Niagara',\n",
       "       'Mammoth'],\n",
       "      dtype='object', name='cohort')"
      ]
     },
     "execution_count": 29,
     "metadata": {},
     "output_type": "execute_result"
    }
   ],
   "source": [
    "# listing possible web dev java cohorts\n",
    "df.cohort[df.program == 'Web Dev - Java'].value_counts().index"
   ]
  },
  {
   "cell_type": "code",
   "execution_count": 30,
   "id": "1fc78cc3-99a4-4c0b-a34f-bb287fc7a424",
   "metadata": {
    "tags": []
   },
   "outputs": [
    {
     "name": "stdout",
     "output_type": "stream",
     "text": [
      "User 976 belongs to the Index(['Oberon'], dtype='object', name='cohort'):\n",
      "\n",
      "User 286 belongs to the Index(['Sequoia'], dtype='object', name='cohort'):\n",
      "\n",
      "User 772 belongs to the Index(['Jupiter'], dtype='object', name='cohort'):\n",
      "\n",
      "User 143 belongs to the Index(['Easley', 'Niagara'], dtype='object', name='cohort'):\n",
      "\n",
      "User 24 belongs to the Index(['Sequoia'], dtype='object', name='cohort'):\n",
      "\n",
      "User 64 belongs to the Index(['Arches', 'Europa'], dtype='object', name='cohort'):\n",
      "\n",
      "User 49 belongs to the Index(['Sequoia'], dtype='object', name='cohort'):\n",
      "\n",
      "User 817 belongs to the Index(['Apex'], dtype='object', name='cohort'):\n",
      "\n",
      "User 178 belongs to the Index(['Pinnacles'], dtype='object', name='cohort'):\n",
      "\n",
      "User 961 belongs to the Index(['Oberon'], dtype='object', name='cohort'):\n",
      "\n",
      "User 963 belongs to the Index(['Oberon'], dtype='object', name='cohort'):\n",
      "\n",
      "User 968 belongs to the Index(['Oberon'], dtype='object', name='cohort'):\n",
      "\n",
      "User 812 belongs to the Index(['Hyperion'], dtype='object', name='cohort'):\n",
      "\n",
      "User 91 belongs to the Index(['Pinnacles'], dtype='object', name='cohort'):\n",
      "\n",
      "User 244 belongs to the Index(['Ulysses'], dtype='object', name='cohort'):\n",
      "\n",
      "User 172 belongs to the Index(['Mammoth'], dtype='object', name='cohort'):\n",
      "\n",
      "User 941 belongs to the Index(['Neptune'], dtype='object', name='cohort'):\n",
      "\n",
      "User 108 belongs to the Index(['Pinnacles'], dtype='object', name='cohort'):\n",
      "\n",
      "User 572 belongs to the Index(['Fortuna'], dtype='object', name='cohort'):\n",
      "\n",
      "User 84 belongs to the Index(['Pinnacles'], dtype='object', name='cohort'):\n",
      "\n",
      "User 107 belongs to the Index(['Mammoth'], dtype='object', name='cohort'):\n",
      "\n",
      "User 104 belongs to the Index(['Pinnacles'], dtype='object', name='cohort'):\n",
      "\n",
      "User 388 belongs to the Index(['Andromeda'], dtype='object', name='cohort'):\n",
      "\n",
      "User 401 belongs to the Index(['Yosemite'], dtype='object', name='cohort'):\n",
      "\n",
      "User 895 belongs to the Index(['Florence', 'Neptune'], dtype='object', name='cohort'):\n",
      "\n",
      "User 956 belongs to the Index(['Oberon'], dtype='object', name='cohort'):\n",
      "\n",
      "User 115 belongs to the Index(['Sequoia'], dtype='object', name='cohort'):\n",
      "\n",
      "User 539 belongs to the Index(['Europa'], dtype='object', name='cohort'):\n",
      "\n",
      "User 216 belongs to the Index(['Niagara'], dtype='object', name='cohort'):\n",
      "\n",
      "User 857 belongs to the Index(['Fortuna'], dtype='object', name='cohort'):\n",
      "\n",
      "User 832 belongs to the Index(['Jupiter'], dtype='object', name='cohort'):\n",
      "\n",
      "User 81 belongs to the Index(['Pinnacles'], dtype='object', name='cohort'):\n",
      "\n",
      "User 573 belongs to the Index(['Betelgeuse'], dtype='object', name='cohort'):\n",
      "\n",
      "User 97 belongs to the Index(['Niagara'], dtype='object', name='cohort'):\n",
      "\n",
      "User 619 belongs to the Index(['Ganymede'], dtype='object', name='cohort'):\n",
      "\n",
      "User 165 belongs to the Index(['Niagara'], dtype='object', name='cohort'):\n",
      "\n",
      "User 940 belongs to the Index(['Neptune'], dtype='object', name='cohort'):\n",
      "\n",
      "User 918 belongs to the Index(['Neptune'], dtype='object', name='cohort'):\n",
      "\n"
     ]
    }
   ],
   "source": [
    "whos_kid(brains_wdj)"
   ]
  },
  {
   "cell_type": "markdown",
   "id": "727890a1-0024-4e08-b16d-9da70f4463ff",
   "metadata": {},
   "source": [
    "Web Dev Java Tally Scores:\n",
    "\n",
    "Oberon V\n",
    "\n",
    "Sequoia IIII\n",
    "\n",
    "Jupiter II\n",
    "\n",
    "Easley I\n",
    "\n",
    "Arches I\n",
    "\n",
    "Apex I\n",
    "\n",
    "Pinnacles VI\n",
    "\n",
    "Hyperion I\n",
    "\n",
    "Ulysses I\n",
    "\n",
    "Mammoth II\n",
    "\n",
    "Neptune III\n",
    "\n",
    "Fortuna II\n",
    "\n",
    "Andromeda I\n",
    "\n",
    "Yosemite I\n",
    "\n",
    "Florence I\n",
    "\n",
    "Europa I\n",
    "\n",
    "Niagara III\n",
    "\n",
    "Betelgeuse I\n",
    "\n",
    "Ganymede I"
   ]
  },
  {
   "cell_type": "markdown",
   "id": "e8e9915c-df5d-429a-b7a4-a456a56ff4fe",
   "metadata": {},
   "source": [
    "#### Of all our Web Dev programs, 2 cohorts had six users use the website less than 30 times: \n",
    "##### Quincy and Pinnacles"
   ]
  },
  {
   "cell_type": "markdown",
   "id": "946b09ab-9f4c-481a-9137-c6bea70aeb51",
   "metadata": {},
   "source": [
    "### Data Science Cohorts"
   ]
  },
  {
   "cell_type": "code",
   "execution_count": 31,
   "id": "5ab96970-2df4-4b52-92ca-6033fc25ad81",
   "metadata": {
    "tags": []
   },
   "outputs": [
    {
     "data": {
      "text/plain": [
       "Index(['Darden', 'Bayes', 'Curie', 'Easley', 'Florence'], dtype='object', name='cohort')"
      ]
     },
     "execution_count": 31,
     "metadata": {},
     "output_type": "execute_result"
    }
   ],
   "source": [
    "# listing possible data science cohorts\n",
    "df.cohort[df.program == 'Data Science'].value_counts().index"
   ]
  },
  {
   "cell_type": "code",
   "execution_count": 32,
   "id": "1844e4f9-e05a-4790-b6e2-1480fa24ebf3",
   "metadata": {
    "tags": []
   },
   "outputs": [
    {
     "name": "stdout",
     "output_type": "stream",
     "text": [
      "User 787 belongs to the Index(['Curie'], dtype='object', name='cohort'):\n",
      "\n",
      "User 746 belongs to the Index(['Curie'], dtype='object', name='cohort'):\n",
      "\n",
      "User 650 belongs to the Index(['Bayes'], dtype='object', name='cohort'):\n",
      "\n",
      "User 487 belongs to the Index(['Bayes'], dtype='object', name='cohort'):\n",
      "\n",
      "User 697 belongs to the Index(['Darden'], dtype='object', name='cohort'):\n",
      "\n",
      "User 679 belongs to the Index(['Darden'], dtype='object', name='cohort'):\n",
      "\n"
     ]
    }
   ],
   "source": [
    "whos_kid(brains_ds)"
   ]
  },
  {
   "cell_type": "markdown",
   "id": "f486a6aa-0da3-4497-8020-2a46513d9553",
   "metadata": {},
   "source": [
    "Data Science Tally Scores:\n",
    "\n",
    "Curie II\n",
    "\n",
    "Bayes II\n",
    "\n",
    "Darden II"
   ]
  },
  {
   "cell_type": "markdown",
   "id": "17fd4524-3a21-492e-afef-cb434332bd2c",
   "metadata": {},
   "source": [
    "#### In our Data Science program, all three of our cohorts had two results each:\n",
    "##### Curie, Bayes, and Darden"
   ]
  },
  {
   "cell_type": "markdown",
   "id": "0f4ef82d-87e6-4134-b946-8a0b18895da4",
   "metadata": {},
   "source": [
    "## 4. At some point in 2019, the ability for students and alumni to access both curriculums (web dev to ds, ds to web dev) should have been shut off. Do you see any evidence of that happening? Did it happen before?"
   ]
  },
  {
   "cell_type": "code",
   "execution_count": 176,
   "id": "0f49b2c7-65d3-46f0-a6b2-380b32e9e8ce",
   "metadata": {
    "tags": []
   },
   "outputs": [
    {
     "data": {
      "text/plain": [
       "path\n",
       "/                                                                            39514\n",
       "toc                                                                          16680\n",
       "javascript-i                                                                 16386\n",
       "search/search_index.json                                                     16185\n",
       "html-css                                                                     11843\n",
       "java-iii                                                                     11773\n",
       "java-ii                                                                      10917\n",
       "spring                                                                       10480\n",
       "jquery                                                                       10124\n",
       "mysql                                                                         9716\n",
       "java-i                                                                        9612\n",
       "javascript-ii                                                                 9301\n",
       "javascript-i/introduction/working-with-data-types-operators-and-variables     7041\n",
       "javascript-i/functions                                                        6799\n",
       "appendix                                                                      6775\n",
       "javascript-i/javascript-with-html                                             6739\n",
       "mysql/tables                                                                  6692\n",
       "html-css/elements                                                             6407\n",
       "mysql/databases                                                               6321\n",
       "javascript-i/loops                                                            6168\n",
       "html-css/css-ii/bootstrap-grid-system                                         6140\n",
       "java-iii/jsp-and-jstl                                                         6121\n",
       "javascript-i/conditionals                                                     6019\n",
       "java-iii/servlets                                                             5978\n",
       "mysql/users                                                                   5858\n",
       "java-i/syntax-types-and-variables                                             5710\n",
       "html-css/css-ii/bootstrap-introduction                                        5682\n",
       "java-ii/object-oriented-programming                                           5672\n",
       "mysql/basic-statements                                                        5611\n",
       "html-css/forms                                                                5328\n",
       "spring/fundamentals/views                                                     5158\n",
       "java-i/introduction-to-java                                                   5108\n",
       "java-ii/arrays                                                                5053\n",
       "javascript-i/arrays/manipulating                                              4989\n",
       "javascript-i/objects                                                          4954\n",
       "jquery/selectors                                                              4941\n",
       "spring/fundamentals/repositories                                              4921\n",
       "javascript-ii/promises                                                        4891\n",
       "javascript-i/introduction/operators                                           4770\n",
       "javascript-i/bom-and-dom/dom                                                  4764\n",
       "java-ii/inheritance-and-polymorphism                                          4758\n",
       "html-css/css-i/selectors-and-properties                                       4756\n",
       "java-i/methods                                                                4730\n",
       "java-ii/collections                                                           4723\n",
       "java-iii/jdbc                                                                 4719\n",
       "java-ii/interfaces-and-abstract-classes                                       4709\n",
       "javascript-i/arrays                                                           4685\n",
       "spring/fundamentals/controllers                                               4656\n",
       "mysql/introduction                                                            4584\n",
       "html-css/css-i/positioning                                                    4359\n",
       "Name: count, dtype: int64"
      ]
     },
     "execution_count": 176,
     "metadata": {},
     "output_type": "execute_result"
    }
   ],
   "source": [
    "# show me the top 50 results for paths\n",
    "df.path.value_counts().head(50)"
   ]
  },
  {
   "cell_type": "code",
   "execution_count": 175,
   "id": "9b19989b-5bdf-4c82-9e45-f9d8db94ca44",
   "metadata": {
    "tags": []
   },
   "outputs": [
    {
     "data": {
      "text/html": [
       "<div>\n",
       "<style scoped>\n",
       "    .dataframe tbody tr th:only-of-type {\n",
       "        vertical-align: middle;\n",
       "    }\n",
       "\n",
       "    .dataframe tbody tr th {\n",
       "        vertical-align: top;\n",
       "    }\n",
       "\n",
       "    .dataframe thead th {\n",
       "        text-align: right;\n",
       "    }\n",
       "</style>\n",
       "<table border=\"1\" class=\"dataframe\">\n",
       "  <thead>\n",
       "    <tr style=\"text-align: right;\">\n",
       "      <th></th>\n",
       "      <th>path</th>\n",
       "      <th>user</th>\n",
       "      <th>ip</th>\n",
       "      <th>cohort</th>\n",
       "      <th>start_date</th>\n",
       "      <th>end_date</th>\n",
       "      <th>program</th>\n",
       "    </tr>\n",
       "    <tr>\n",
       "      <th>created_at</th>\n",
       "      <th></th>\n",
       "      <th></th>\n",
       "      <th></th>\n",
       "      <th></th>\n",
       "      <th></th>\n",
       "      <th></th>\n",
       "      <th></th>\n",
       "    </tr>\n",
       "  </thead>\n",
       "  <tbody>\n",
       "    <tr>\n",
       "      <th>2019-08-20 14:38:55</th>\n",
       "      <td>java-iii</td>\n",
       "      <td>476</td>\n",
       "      <td>97.105.19.58</td>\n",
       "      <td>Bayes</td>\n",
       "      <td>2019-08-19</td>\n",
       "      <td>2020-01-30</td>\n",
       "      <td>Data Science</td>\n",
       "    </tr>\n",
       "    <tr>\n",
       "      <th>2019-08-20 14:38:55</th>\n",
       "      <td>java-i</td>\n",
       "      <td>476</td>\n",
       "      <td>136.50.49.145</td>\n",
       "      <td>Bayes</td>\n",
       "      <td>2019-08-19</td>\n",
       "      <td>2020-01-30</td>\n",
       "      <td>Data Science</td>\n",
       "    </tr>\n",
       "    <tr>\n",
       "      <th>2019-08-20 14:38:55</th>\n",
       "      <td>java-i</td>\n",
       "      <td>476</td>\n",
       "      <td>136.50.49.145</td>\n",
       "      <td>Bayes</td>\n",
       "      <td>2019-08-19</td>\n",
       "      <td>2020-01-30</td>\n",
       "      <td>Data Science</td>\n",
       "    </tr>\n",
       "    <tr>\n",
       "      <th>2019-08-20 14:38:55</th>\n",
       "      <td>java-ii</td>\n",
       "      <td>476</td>\n",
       "      <td>136.50.49.145</td>\n",
       "      <td>Bayes</td>\n",
       "      <td>2019-08-19</td>\n",
       "      <td>2020-01-30</td>\n",
       "      <td>Data Science</td>\n",
       "    </tr>\n",
       "    <tr>\n",
       "      <th>2019-08-20 14:38:55</th>\n",
       "      <td>java-i</td>\n",
       "      <td>476</td>\n",
       "      <td>136.50.49.145</td>\n",
       "      <td>Bayes</td>\n",
       "      <td>2019-08-19</td>\n",
       "      <td>2020-01-30</td>\n",
       "      <td>Data Science</td>\n",
       "    </tr>\n",
       "    <tr>\n",
       "      <th>2019-08-20 14:38:55</th>\n",
       "      <td>java-i</td>\n",
       "      <td>476</td>\n",
       "      <td>136.50.49.145</td>\n",
       "      <td>Bayes</td>\n",
       "      <td>2019-08-19</td>\n",
       "      <td>2020-01-30</td>\n",
       "      <td>Data Science</td>\n",
       "    </tr>\n",
       "    <tr>\n",
       "      <th>2019-08-20 14:38:55</th>\n",
       "      <td>java-i</td>\n",
       "      <td>476</td>\n",
       "      <td>97.105.19.58</td>\n",
       "      <td>Bayes</td>\n",
       "      <td>2019-08-19</td>\n",
       "      <td>2020-01-30</td>\n",
       "      <td>Data Science</td>\n",
       "    </tr>\n",
       "    <tr>\n",
       "      <th>2019-08-20 14:38:55</th>\n",
       "      <td>java-ii</td>\n",
       "      <td>476</td>\n",
       "      <td>97.105.19.58</td>\n",
       "      <td>Bayes</td>\n",
       "      <td>2019-08-19</td>\n",
       "      <td>2020-01-30</td>\n",
       "      <td>Data Science</td>\n",
       "    </tr>\n",
       "    <tr>\n",
       "      <th>2019-08-20 14:38:55</th>\n",
       "      <td>java-iii</td>\n",
       "      <td>476</td>\n",
       "      <td>97.105.19.58</td>\n",
       "      <td>Bayes</td>\n",
       "      <td>2019-08-19</td>\n",
       "      <td>2020-01-30</td>\n",
       "      <td>Data Science</td>\n",
       "    </tr>\n",
       "    <tr>\n",
       "      <th>2019-08-20 14:38:55</th>\n",
       "      <td>java-iii</td>\n",
       "      <td>476</td>\n",
       "      <td>97.105.19.58</td>\n",
       "      <td>Bayes</td>\n",
       "      <td>2019-08-19</td>\n",
       "      <td>2020-01-30</td>\n",
       "      <td>Data Science</td>\n",
       "    </tr>\n",
       "    <tr>\n",
       "      <th>2019-08-20 14:38:55</th>\n",
       "      <td>java-i</td>\n",
       "      <td>476</td>\n",
       "      <td>97.105.19.58</td>\n",
       "      <td>Bayes</td>\n",
       "      <td>2019-08-19</td>\n",
       "      <td>2020-01-30</td>\n",
       "      <td>Data Science</td>\n",
       "    </tr>\n",
       "    <tr>\n",
       "      <th>2019-08-20 14:38:55</th>\n",
       "      <td>java-i</td>\n",
       "      <td>467</td>\n",
       "      <td>97.105.19.58</td>\n",
       "      <td>Bayes</td>\n",
       "      <td>2019-08-19</td>\n",
       "      <td>2020-01-30</td>\n",
       "      <td>Data Science</td>\n",
       "    </tr>\n",
       "    <tr>\n",
       "      <th>2019-08-20 14:38:55</th>\n",
       "      <td>java-ii</td>\n",
       "      <td>467</td>\n",
       "      <td>97.105.19.58</td>\n",
       "      <td>Bayes</td>\n",
       "      <td>2019-08-19</td>\n",
       "      <td>2020-01-30</td>\n",
       "      <td>Data Science</td>\n",
       "    </tr>\n",
       "    <tr>\n",
       "      <th>2019-08-20 14:38:55</th>\n",
       "      <td>java-iii</td>\n",
       "      <td>467</td>\n",
       "      <td>97.105.19.58</td>\n",
       "      <td>Bayes</td>\n",
       "      <td>2019-08-19</td>\n",
       "      <td>2020-01-30</td>\n",
       "      <td>Data Science</td>\n",
       "    </tr>\n",
       "    <tr>\n",
       "      <th>2019-08-20 14:38:55</th>\n",
       "      <td>java-ii</td>\n",
       "      <td>467</td>\n",
       "      <td>97.105.19.58</td>\n",
       "      <td>Bayes</td>\n",
       "      <td>2019-08-19</td>\n",
       "      <td>2020-01-30</td>\n",
       "      <td>Data Science</td>\n",
       "    </tr>\n",
       "  </tbody>\n",
       "</table>\n",
       "</div>"
      ],
      "text/plain": [
       "                         path  user             ip cohort start_date  \\\n",
       "created_at                                                             \n",
       "2019-08-20 14:38:55  java-iii   476   97.105.19.58  Bayes 2019-08-19   \n",
       "2019-08-20 14:38:55    java-i   476  136.50.49.145  Bayes 2019-08-19   \n",
       "2019-08-20 14:38:55    java-i   476  136.50.49.145  Bayes 2019-08-19   \n",
       "2019-08-20 14:38:55   java-ii   476  136.50.49.145  Bayes 2019-08-19   \n",
       "2019-08-20 14:38:55    java-i   476  136.50.49.145  Bayes 2019-08-19   \n",
       "2019-08-20 14:38:55    java-i   476  136.50.49.145  Bayes 2019-08-19   \n",
       "2019-08-20 14:38:55    java-i   476   97.105.19.58  Bayes 2019-08-19   \n",
       "2019-08-20 14:38:55   java-ii   476   97.105.19.58  Bayes 2019-08-19   \n",
       "2019-08-20 14:38:55  java-iii   476   97.105.19.58  Bayes 2019-08-19   \n",
       "2019-08-20 14:38:55  java-iii   476   97.105.19.58  Bayes 2019-08-19   \n",
       "2019-08-20 14:38:55    java-i   476   97.105.19.58  Bayes 2019-08-19   \n",
       "2019-08-20 14:38:55    java-i   467   97.105.19.58  Bayes 2019-08-19   \n",
       "2019-08-20 14:38:55   java-ii   467   97.105.19.58  Bayes 2019-08-19   \n",
       "2019-08-20 14:38:55  java-iii   467   97.105.19.58  Bayes 2019-08-19   \n",
       "2019-08-20 14:38:55   java-ii   467   97.105.19.58  Bayes 2019-08-19   \n",
       "\n",
       "                      end_date       program  \n",
       "created_at                                    \n",
       "2019-08-20 14:38:55 2020-01-30  Data Science  \n",
       "2019-08-20 14:38:55 2020-01-30  Data Science  \n",
       "2019-08-20 14:38:55 2020-01-30  Data Science  \n",
       "2019-08-20 14:38:55 2020-01-30  Data Science  \n",
       "2019-08-20 14:38:55 2020-01-30  Data Science  \n",
       "2019-08-20 14:38:55 2020-01-30  Data Science  \n",
       "2019-08-20 14:38:55 2020-01-30  Data Science  \n",
       "2019-08-20 14:38:55 2020-01-30  Data Science  \n",
       "2019-08-20 14:38:55 2020-01-30  Data Science  \n",
       "2019-08-20 14:38:55 2020-01-30  Data Science  \n",
       "2019-08-20 14:38:55 2020-01-30  Data Science  \n",
       "2019-08-20 14:38:55 2020-01-30  Data Science  \n",
       "2019-08-20 14:38:55 2020-01-30  Data Science  \n",
       "2019-08-20 14:38:55 2020-01-30  Data Science  \n",
       "2019-08-20 14:38:55 2020-01-30  Data Science  "
      ]
     },
     "execution_count": 175,
     "metadata": {},
     "output_type": "execute_result"
    }
   ],
   "source": [
    "# show me all occurences of data science cohorts pinging highly pinged web dev lessons\n",
    "df[((df.program == 'Data Science') & (df.path == 'java-ii')) \n",
    "           | ((df.program == 'Data Science') & (df.path == 'java-i')) \n",
    "           | ((df.program == 'Data Science') & (df.path == 'java-iii'))]"
   ]
  },
  {
   "cell_type": "markdown",
   "id": "8f2d7936-4268-49b7-afb7-605105ff33c9",
   "metadata": {},
   "source": [
    "### Though fairly minimal, there appeared to be a surge in hits crossing over the program line in August of 2019, leading me to believe the breaking of the bridge between programs occured sometime in the next few days following. Prior to this surge, the amount of students accessing the other curriculum did not appear rampant whatsoever."
   ]
  },
  {
   "cell_type": "markdown",
   "id": "4a039c28-a653-4e0a-ac72-829049fcc0de",
   "metadata": {},
   "source": [
    "#### "
   ]
  },
  {
   "cell_type": "markdown",
   "id": "f96cd94f-0a50-4a4d-995c-267afbf57c35",
   "metadata": {},
   "source": [
    "## 5. What topics are grads continuing to reference after graduation and into their jobs (for each program)?"
   ]
  },
  {
   "cell_type": "code",
   "execution_count": 80,
   "id": "9e29de64-8cc8-4a6d-9d31-d8eb9e981f35",
   "metadata": {
    "tags": []
   },
   "outputs": [],
   "source": [
    "# storing values for hits to the server after graduation for each program\n",
    "wdp = df.path[(df.index > df.end_date) & (df.program == 'Web Dev - PHP')].value_counts().head(5)\n",
    "wdj = df.path[(df.index > df.end_date) & (df.program == 'Web Dev - Java')].value_counts()\n",
    "ds = df.path[(df.index > df.end_date) & (df.program == 'Data Science')].value_counts().head(5)\n",
    "wdfe = df.path[(df.index > df.end_date) & (df.program == 'Front End Web Dev')].value_counts().head(5)"
   ]
  },
  {
   "cell_type": "markdown",
   "id": "3157cc85-0ac3-4410-908f-c5d20ae1fb7e",
   "metadata": {},
   "source": [
    "### Web Dev Cohorts"
   ]
  },
  {
   "cell_type": "code",
   "execution_count": 83,
   "id": "12982911-3027-4544-a5d9-bcf5f33b99b9",
   "metadata": {
    "tags": []
   },
   "outputs": [
    {
     "data": {
      "text/plain": [
       "path\n",
       "/                929\n",
       "javascript-i     351\n",
       "html-css         272\n",
       "javascript-ii    247\n",
       "spring           244\n",
       "Name: count, dtype: int64"
      ]
     },
     "execution_count": 83,
     "metadata": {},
     "output_type": "execute_result"
    }
   ],
   "source": [
    "wdp"
   ]
  },
  {
   "cell_type": "code",
   "execution_count": 75,
   "id": "40e1d763-6d5c-4d8c-a77d-2432ca090c2d",
   "metadata": {
    "tags": []
   },
   "outputs": [
    {
     "data": {
      "text/html": [
       "<div>\n",
       "<style scoped>\n",
       "    .dataframe tbody tr th:only-of-type {\n",
       "        vertical-align: middle;\n",
       "    }\n",
       "\n",
       "    .dataframe tbody tr th {\n",
       "        vertical-align: top;\n",
       "    }\n",
       "\n",
       "    .dataframe thead th {\n",
       "        text-align: right;\n",
       "    }\n",
       "</style>\n",
       "<table border=\"1\" class=\"dataframe\">\n",
       "  <thead>\n",
       "    <tr style=\"text-align: right;\">\n",
       "      <th></th>\n",
       "      <th>path</th>\n",
       "      <th>user</th>\n",
       "      <th>ip</th>\n",
       "      <th>cohort</th>\n",
       "      <th>start_date</th>\n",
       "      <th>end_date</th>\n",
       "      <th>program</th>\n",
       "    </tr>\n",
       "    <tr>\n",
       "      <th>created_at</th>\n",
       "      <th></th>\n",
       "      <th></th>\n",
       "      <th></th>\n",
       "      <th></th>\n",
       "      <th></th>\n",
       "      <th></th>\n",
       "      <th></th>\n",
       "    </tr>\n",
       "  </thead>\n",
       "  <tbody>\n",
       "    <tr>\n",
       "      <th>2016-06-14 19:52:26</th>\n",
       "      <td>/</td>\n",
       "      <td>1</td>\n",
       "      <td>97.105.19.61</td>\n",
       "      <td>Hampton</td>\n",
       "      <td>2015-09-22</td>\n",
       "      <td>2016-02-06</td>\n",
       "      <td>Web Dev - PHP</td>\n",
       "    </tr>\n",
       "    <tr>\n",
       "      <th>2016-06-14 19:52:26</th>\n",
       "      <td>java-ii</td>\n",
       "      <td>1</td>\n",
       "      <td>97.105.19.61</td>\n",
       "      <td>Hampton</td>\n",
       "      <td>2015-09-22</td>\n",
       "      <td>2016-02-06</td>\n",
       "      <td>Web Dev - PHP</td>\n",
       "    </tr>\n",
       "    <tr>\n",
       "      <th>2016-06-14 19:52:26</th>\n",
       "      <td>java-ii/object-oriented-programming</td>\n",
       "      <td>1</td>\n",
       "      <td>97.105.19.61</td>\n",
       "      <td>Hampton</td>\n",
       "      <td>2015-09-22</td>\n",
       "      <td>2016-02-06</td>\n",
       "      <td>Web Dev - PHP</td>\n",
       "    </tr>\n",
       "    <tr>\n",
       "      <th>2016-06-14 19:52:26</th>\n",
       "      <td>slides/object_oriented_programming</td>\n",
       "      <td>1</td>\n",
       "      <td>97.105.19.61</td>\n",
       "      <td>Hampton</td>\n",
       "      <td>2015-09-22</td>\n",
       "      <td>2016-02-06</td>\n",
       "      <td>Web Dev - PHP</td>\n",
       "    </tr>\n",
       "    <tr>\n",
       "      <th>2016-06-14 19:52:26</th>\n",
       "      <td>/</td>\n",
       "      <td>11</td>\n",
       "      <td>97.105.19.61</td>\n",
       "      <td>Arches</td>\n",
       "      <td>2014-02-04</td>\n",
       "      <td>2014-04-22</td>\n",
       "      <td>Web Dev - PHP</td>\n",
       "    </tr>\n",
       "    <tr>\n",
       "      <th>...</th>\n",
       "      <td>...</td>\n",
       "      <td>...</td>\n",
       "      <td>...</td>\n",
       "      <td>...</td>\n",
       "      <td>...</td>\n",
       "      <td>...</td>\n",
       "      <td>...</td>\n",
       "    </tr>\n",
       "    <tr>\n",
       "      <th>2016-06-14 19:52:26</th>\n",
       "      <td>content/javascript/conditionals.html</td>\n",
       "      <td>51</td>\n",
       "      <td>72.179.168.148</td>\n",
       "      <td>Kings</td>\n",
       "      <td>2016-05-23</td>\n",
       "      <td>2016-09-15</td>\n",
       "      <td>Web Dev - PHP</td>\n",
       "    </tr>\n",
       "    <tr>\n",
       "      <th>2016-06-14 19:52:26</th>\n",
       "      <td>content/javascript/loops.html</td>\n",
       "      <td>51</td>\n",
       "      <td>72.179.168.148</td>\n",
       "      <td>Kings</td>\n",
       "      <td>2016-05-23</td>\n",
       "      <td>2016-09-15</td>\n",
       "      <td>Web Dev - PHP</td>\n",
       "    </tr>\n",
       "    <tr>\n",
       "      <th>2016-07-18 19:06:27</th>\n",
       "      <td>content/javascript/javascript-with-html.html</td>\n",
       "      <td>80</td>\n",
       "      <td>136.50.29.193</td>\n",
       "      <td>Lassen</td>\n",
       "      <td>2016-07-18</td>\n",
       "      <td>2016-11-10</td>\n",
       "      <td>Web Dev - PHP</td>\n",
       "    </tr>\n",
       "    <tr>\n",
       "      <th>2016-07-18 19:06:27</th>\n",
       "      <td>content/javascript/conditionals.html</td>\n",
       "      <td>80</td>\n",
       "      <td>136.50.29.193</td>\n",
       "      <td>Lassen</td>\n",
       "      <td>2016-07-18</td>\n",
       "      <td>2016-11-10</td>\n",
       "      <td>Web Dev - PHP</td>\n",
       "    </tr>\n",
       "    <tr>\n",
       "      <th>2016-07-18 19:06:27</th>\n",
       "      <td>content/javascript/gitbook/images/favicon.ico</td>\n",
       "      <td>80</td>\n",
       "      <td>136.50.29.193</td>\n",
       "      <td>Lassen</td>\n",
       "      <td>2016-07-18</td>\n",
       "      <td>2016-11-10</td>\n",
       "      <td>Web Dev - PHP</td>\n",
       "    </tr>\n",
       "  </tbody>\n",
       "</table>\n",
       "<p>30548 rows × 7 columns</p>\n",
       "</div>"
      ],
      "text/plain": [
       "                                                              path  user  \\\n",
       "created_at                                                                 \n",
       "2016-06-14 19:52:26                                              /     1   \n",
       "2016-06-14 19:52:26                                        java-ii     1   \n",
       "2016-06-14 19:52:26            java-ii/object-oriented-programming     1   \n",
       "2016-06-14 19:52:26             slides/object_oriented_programming     1   \n",
       "2016-06-14 19:52:26                                              /    11   \n",
       "...                                                            ...   ...   \n",
       "2016-06-14 19:52:26           content/javascript/conditionals.html    51   \n",
       "2016-06-14 19:52:26                  content/javascript/loops.html    51   \n",
       "2016-07-18 19:06:27   content/javascript/javascript-with-html.html    80   \n",
       "2016-07-18 19:06:27           content/javascript/conditionals.html    80   \n",
       "2016-07-18 19:06:27  content/javascript/gitbook/images/favicon.ico    80   \n",
       "\n",
       "                                 ip   cohort start_date   end_date  \\\n",
       "created_at                                                           \n",
       "2016-06-14 19:52:26    97.105.19.61  Hampton 2015-09-22 2016-02-06   \n",
       "2016-06-14 19:52:26    97.105.19.61  Hampton 2015-09-22 2016-02-06   \n",
       "2016-06-14 19:52:26    97.105.19.61  Hampton 2015-09-22 2016-02-06   \n",
       "2016-06-14 19:52:26    97.105.19.61  Hampton 2015-09-22 2016-02-06   \n",
       "2016-06-14 19:52:26    97.105.19.61   Arches 2014-02-04 2014-04-22   \n",
       "...                             ...      ...        ...        ...   \n",
       "2016-06-14 19:52:26  72.179.168.148    Kings 2016-05-23 2016-09-15   \n",
       "2016-06-14 19:52:26  72.179.168.148    Kings 2016-05-23 2016-09-15   \n",
       "2016-07-18 19:06:27   136.50.29.193   Lassen 2016-07-18 2016-11-10   \n",
       "2016-07-18 19:06:27   136.50.29.193   Lassen 2016-07-18 2016-11-10   \n",
       "2016-07-18 19:06:27   136.50.29.193   Lassen 2016-07-18 2016-11-10   \n",
       "\n",
       "                           program  \n",
       "created_at                          \n",
       "2016-06-14 19:52:26  Web Dev - PHP  \n",
       "2016-06-14 19:52:26  Web Dev - PHP  \n",
       "2016-06-14 19:52:26  Web Dev - PHP  \n",
       "2016-06-14 19:52:26  Web Dev - PHP  \n",
       "2016-06-14 19:52:26  Web Dev - PHP  \n",
       "...                            ...  \n",
       "2016-06-14 19:52:26  Web Dev - PHP  \n",
       "2016-06-14 19:52:26  Web Dev - PHP  \n",
       "2016-07-18 19:06:27  Web Dev - PHP  \n",
       "2016-07-18 19:06:27  Web Dev - PHP  \n",
       "2016-07-18 19:06:27  Web Dev - PHP  \n",
       "\n",
       "[30548 rows x 7 columns]"
      ]
     },
     "execution_count": 75,
     "metadata": {},
     "output_type": "execute_result"
    }
   ],
   "source": [
    "df[(df.program == 'Web Dev - PHP')]"
   ]
  },
  {
   "cell_type": "markdown",
   "id": "ebaf7eee-aa8d-4c5b-944a-7b578158c9ed",
   "metadata": {},
   "source": [
    "For our web dev PHP program cohorts, they seemed to access the initial lessons they first learned, like javascript-i and javascript-ii which is a valid conclusion considering they've likely spent the longest amount of time not seeing this material since starting."
   ]
  },
  {
   "cell_type": "code",
   "execution_count": 76,
   "id": "77ed0faf-8d93-49e1-93f5-8d4eed89a52d",
   "metadata": {
    "tags": []
   },
   "outputs": [
    {
     "data": {
      "text/plain": [
       "Series([], Name: count, dtype: int64)"
      ]
     },
     "execution_count": 76,
     "metadata": {},
     "output_type": "execute_result"
    }
   ],
   "source": [
    "# this seems to imply there was no attempt at accessing the curriculum after graduating, let's look a little closer at this\n",
    "wdj"
   ]
  },
  {
   "cell_type": "code",
   "execution_count": 77,
   "id": "8add9f5d-f61b-4836-99c4-88c22d03a5e2",
   "metadata": {
    "tags": []
   },
   "outputs": [
    {
     "data": {
      "text/html": [
       "<div>\n",
       "<style scoped>\n",
       "    .dataframe tbody tr th:only-of-type {\n",
       "        vertical-align: middle;\n",
       "    }\n",
       "\n",
       "    .dataframe tbody tr th {\n",
       "        vertical-align: top;\n",
       "    }\n",
       "\n",
       "    .dataframe thead th {\n",
       "        text-align: right;\n",
       "    }\n",
       "</style>\n",
       "<table border=\"1\" class=\"dataframe\">\n",
       "  <thead>\n",
       "    <tr style=\"text-align: right;\">\n",
       "      <th></th>\n",
       "      <th>path</th>\n",
       "      <th>user</th>\n",
       "      <th>ip</th>\n",
       "      <th>cohort</th>\n",
       "      <th>start_date</th>\n",
       "      <th>end_date</th>\n",
       "      <th>program</th>\n",
       "    </tr>\n",
       "    <tr>\n",
       "      <th>created_at</th>\n",
       "      <th></th>\n",
       "      <th></th>\n",
       "      <th></th>\n",
       "      <th></th>\n",
       "      <th></th>\n",
       "      <th></th>\n",
       "      <th></th>\n",
       "    </tr>\n",
       "  </thead>\n",
       "  <tbody>\n",
       "    <tr>\n",
       "      <th>2018-01-08 13:59:10</th>\n",
       "      <td>javascript-i/conditionals</td>\n",
       "      <td>2</td>\n",
       "      <td>97.105.19.61</td>\n",
       "      <td>Teddy</td>\n",
       "      <td>2018-01-08</td>\n",
       "      <td>2018-05-17</td>\n",
       "      <td>Web Dev - Java</td>\n",
       "    </tr>\n",
       "    <tr>\n",
       "      <th>2018-01-08 13:59:10</th>\n",
       "      <td>javascript-i/loops</td>\n",
       "      <td>2</td>\n",
       "      <td>97.105.19.61</td>\n",
       "      <td>Teddy</td>\n",
       "      <td>2018-01-08</td>\n",
       "      <td>2018-05-17</td>\n",
       "      <td>Web Dev - Java</td>\n",
       "    </tr>\n",
       "    <tr>\n",
       "      <th>2018-01-08 13:59:10</th>\n",
       "      <td>javascript-i/conditionals</td>\n",
       "      <td>3</td>\n",
       "      <td>97.105.19.61</td>\n",
       "      <td>Teddy</td>\n",
       "      <td>2018-01-08</td>\n",
       "      <td>2018-05-17</td>\n",
       "      <td>Web Dev - Java</td>\n",
       "    </tr>\n",
       "    <tr>\n",
       "      <th>2018-01-08 13:59:10</th>\n",
       "      <td>javascript-i/functions</td>\n",
       "      <td>3</td>\n",
       "      <td>97.105.19.61</td>\n",
       "      <td>Teddy</td>\n",
       "      <td>2018-01-08</td>\n",
       "      <td>2018-05-17</td>\n",
       "      <td>Web Dev - Java</td>\n",
       "    </tr>\n",
       "    <tr>\n",
       "      <th>2018-01-08 13:59:10</th>\n",
       "      <td>javascript-i/loops</td>\n",
       "      <td>2</td>\n",
       "      <td>97.105.19.61</td>\n",
       "      <td>Teddy</td>\n",
       "      <td>2018-01-08</td>\n",
       "      <td>2018-05-17</td>\n",
       "      <td>Web Dev - Java</td>\n",
       "    </tr>\n",
       "    <tr>\n",
       "      <th>...</th>\n",
       "      <td>...</td>\n",
       "      <td>...</td>\n",
       "      <td>...</td>\n",
       "      <td>...</td>\n",
       "      <td>...</td>\n",
       "      <td>...</td>\n",
       "      <td>...</td>\n",
       "    </tr>\n",
       "    <tr>\n",
       "      <th>2021-01-20 21:31:11</th>\n",
       "      <td>jquery/personal-site</td>\n",
       "      <td>869</td>\n",
       "      <td>136.50.98.51</td>\n",
       "      <td>Marco</td>\n",
       "      <td>2021-01-25</td>\n",
       "      <td>2021-07-19</td>\n",
       "      <td>Web Dev - Java</td>\n",
       "    </tr>\n",
       "    <tr>\n",
       "      <th>2021-03-15 19:57:09</th>\n",
       "      <td>html-css/css-ii/bootstrap-grid-system</td>\n",
       "      <td>948</td>\n",
       "      <td>104.48.214.211</td>\n",
       "      <td>Neptune</td>\n",
       "      <td>2021-03-15</td>\n",
       "      <td>2021-09-03</td>\n",
       "      <td>Web Dev - Java</td>\n",
       "    </tr>\n",
       "    <tr>\n",
       "      <th>2020-12-07 16:58:43</th>\n",
       "      <td>java-iii</td>\n",
       "      <td>834</td>\n",
       "      <td>67.11.50.23</td>\n",
       "      <td>Luna</td>\n",
       "      <td>2020-12-07</td>\n",
       "      <td>2021-06-08</td>\n",
       "      <td>Web Dev - Java</td>\n",
       "    </tr>\n",
       "    <tr>\n",
       "      <th>2020-12-07 16:58:43</th>\n",
       "      <td>java-iii/servlets</td>\n",
       "      <td>834</td>\n",
       "      <td>67.11.50.23</td>\n",
       "      <td>Luna</td>\n",
       "      <td>2020-12-07</td>\n",
       "      <td>2021-06-08</td>\n",
       "      <td>Web Dev - Java</td>\n",
       "    </tr>\n",
       "    <tr>\n",
       "      <th>2021-01-20 21:31:11</th>\n",
       "      <td>javascript-i/bom-and-dom/dom</td>\n",
       "      <td>875</td>\n",
       "      <td>24.242.150.231</td>\n",
       "      <td>Marco</td>\n",
       "      <td>2021-01-25</td>\n",
       "      <td>2021-07-19</td>\n",
       "      <td>Web Dev - Java</td>\n",
       "    </tr>\n",
       "  </tbody>\n",
       "</table>\n",
       "<p>629334 rows × 7 columns</p>\n",
       "</div>"
      ],
      "text/plain": [
       "                                                      path  user  \\\n",
       "created_at                                                         \n",
       "2018-01-08 13:59:10              javascript-i/conditionals     2   \n",
       "2018-01-08 13:59:10                     javascript-i/loops     2   \n",
       "2018-01-08 13:59:10              javascript-i/conditionals     3   \n",
       "2018-01-08 13:59:10                 javascript-i/functions     3   \n",
       "2018-01-08 13:59:10                     javascript-i/loops     2   \n",
       "...                                                    ...   ...   \n",
       "2021-01-20 21:31:11                   jquery/personal-site   869   \n",
       "2021-03-15 19:57:09  html-css/css-ii/bootstrap-grid-system   948   \n",
       "2020-12-07 16:58:43                               java-iii   834   \n",
       "2020-12-07 16:58:43                      java-iii/servlets   834   \n",
       "2021-01-20 21:31:11           javascript-i/bom-and-dom/dom   875   \n",
       "\n",
       "                                 ip   cohort start_date   end_date  \\\n",
       "created_at                                                           \n",
       "2018-01-08 13:59:10    97.105.19.61    Teddy 2018-01-08 2018-05-17   \n",
       "2018-01-08 13:59:10    97.105.19.61    Teddy 2018-01-08 2018-05-17   \n",
       "2018-01-08 13:59:10    97.105.19.61    Teddy 2018-01-08 2018-05-17   \n",
       "2018-01-08 13:59:10    97.105.19.61    Teddy 2018-01-08 2018-05-17   \n",
       "2018-01-08 13:59:10    97.105.19.61    Teddy 2018-01-08 2018-05-17   \n",
       "...                             ...      ...        ...        ...   \n",
       "2021-01-20 21:31:11    136.50.98.51    Marco 2021-01-25 2021-07-19   \n",
       "2021-03-15 19:57:09  104.48.214.211  Neptune 2021-03-15 2021-09-03   \n",
       "2020-12-07 16:58:43     67.11.50.23     Luna 2020-12-07 2021-06-08   \n",
       "2020-12-07 16:58:43     67.11.50.23     Luna 2020-12-07 2021-06-08   \n",
       "2021-01-20 21:31:11  24.242.150.231    Marco 2021-01-25 2021-07-19   \n",
       "\n",
       "                            program  \n",
       "created_at                           \n",
       "2018-01-08 13:59:10  Web Dev - Java  \n",
       "2018-01-08 13:59:10  Web Dev - Java  \n",
       "2018-01-08 13:59:10  Web Dev - Java  \n",
       "2018-01-08 13:59:10  Web Dev - Java  \n",
       "2018-01-08 13:59:10  Web Dev - Java  \n",
       "...                             ...  \n",
       "2021-01-20 21:31:11  Web Dev - Java  \n",
       "2021-03-15 19:57:09  Web Dev - Java  \n",
       "2020-12-07 16:58:43  Web Dev - Java  \n",
       "2020-12-07 16:58:43  Web Dev - Java  \n",
       "2021-01-20 21:31:11  Web Dev - Java  \n",
       "\n",
       "[629334 rows x 7 columns]"
      ]
     },
     "execution_count": 77,
     "metadata": {},
     "output_type": "execute_result"
    }
   ],
   "source": [
    "df[(df.program == 'Web Dev - Java')]"
   ]
  },
  {
   "cell_type": "markdown",
   "id": "17d3f1d5-88f8-4d16-aae9-361d1ac36939",
   "metadata": {},
   "source": [
    "Looking at varying instances and cohorts this seems to be the case throughout. "
   ]
  },
  {
   "cell_type": "code",
   "execution_count": 78,
   "id": "609f11aa-8d44-48f0-b916-6d83ac780a31",
   "metadata": {
    "tags": []
   },
   "outputs": [
    {
     "data": {
      "text/plain": [
       "path\n",
       "content/html-css                               2\n",
       "/                                              1\n",
       "content/html-css/gitbook/images/favicon.ico    1\n",
       "content/html-css/introduction.html             1\n",
       "Name: count, dtype: int64"
      ]
     },
     "execution_count": 78,
     "metadata": {},
     "output_type": "execute_result"
    }
   ],
   "source": [
    "wdfe"
   ]
  },
  {
   "cell_type": "markdown",
   "id": "34239028-92a1-4944-9e8e-e97506b16807",
   "metadata": {},
   "source": [
    "#### For our web dev PHP and Front End program cohorts, we have the largest amount of pings on introductory content after students have graduated. However for our Web Dev Java program, there appears to be a lack of after graduation use of the curriculum. "
   ]
  },
  {
   "cell_type": "markdown",
   "id": "62348f4d-c5ab-4cce-8938-f8db487248e4",
   "metadata": {},
   "source": [
    "### Data Science Cohorts"
   ]
  },
  {
   "cell_type": "code",
   "execution_count": 79,
   "id": "7bfc95fe-dedb-4849-86fc-89bb12c31cf2",
   "metadata": {
    "tags": []
   },
   "outputs": [
    {
     "data": {
      "text/plain": [
       "Series([], Name: count, dtype: int64)"
      ]
     },
     "execution_count": 79,
     "metadata": {},
     "output_type": "execute_result"
    }
   ],
   "source": [
    "# this appears to be the same as our web dev java program, \n",
    "ds"
   ]
  },
  {
   "cell_type": "code",
   "execution_count": 71,
   "id": "163334cf-3d20-400a-a075-8af8c7173d5c",
   "metadata": {
    "tags": []
   },
   "outputs": [
    {
     "data": {
      "text/html": [
       "<div>\n",
       "<style scoped>\n",
       "    .dataframe tbody tr th:only-of-type {\n",
       "        vertical-align: middle;\n",
       "    }\n",
       "\n",
       "    .dataframe tbody tr th {\n",
       "        vertical-align: top;\n",
       "    }\n",
       "\n",
       "    .dataframe thead th {\n",
       "        text-align: right;\n",
       "    }\n",
       "</style>\n",
       "<table border=\"1\" class=\"dataframe\">\n",
       "  <thead>\n",
       "    <tr style=\"text-align: right;\">\n",
       "      <th></th>\n",
       "      <th>path</th>\n",
       "      <th>user</th>\n",
       "      <th>ip</th>\n",
       "      <th>cohort</th>\n",
       "      <th>start_date</th>\n",
       "      <th>end_date</th>\n",
       "      <th>program</th>\n",
       "    </tr>\n",
       "    <tr>\n",
       "      <th>created_at</th>\n",
       "      <th></th>\n",
       "      <th></th>\n",
       "      <th></th>\n",
       "      <th></th>\n",
       "      <th></th>\n",
       "      <th></th>\n",
       "      <th></th>\n",
       "    </tr>\n",
       "  </thead>\n",
       "  <tbody>\n",
       "    <tr>\n",
       "      <th>2019-08-20 14:38:55</th>\n",
       "      <td>/</td>\n",
       "      <td>466</td>\n",
       "      <td>97.105.19.58</td>\n",
       "      <td>Bayes</td>\n",
       "      <td>2019-08-19</td>\n",
       "      <td>2020-01-30</td>\n",
       "      <td>Data Science</td>\n",
       "    </tr>\n",
       "    <tr>\n",
       "      <th>2019-08-20 14:38:55</th>\n",
       "      <td>/</td>\n",
       "      <td>467</td>\n",
       "      <td>97.105.19.58</td>\n",
       "      <td>Bayes</td>\n",
       "      <td>2019-08-19</td>\n",
       "      <td>2020-01-30</td>\n",
       "      <td>Data Science</td>\n",
       "    </tr>\n",
       "    <tr>\n",
       "      <th>2019-08-20 14:38:55</th>\n",
       "      <td>/</td>\n",
       "      <td>468</td>\n",
       "      <td>97.105.19.58</td>\n",
       "      <td>Bayes</td>\n",
       "      <td>2019-08-19</td>\n",
       "      <td>2020-01-30</td>\n",
       "      <td>Data Science</td>\n",
       "    </tr>\n",
       "    <tr>\n",
       "      <th>2019-08-20 14:38:55</th>\n",
       "      <td>/</td>\n",
       "      <td>469</td>\n",
       "      <td>97.105.19.58</td>\n",
       "      <td>Bayes</td>\n",
       "      <td>2019-08-19</td>\n",
       "      <td>2020-01-30</td>\n",
       "      <td>Data Science</td>\n",
       "    </tr>\n",
       "    <tr>\n",
       "      <th>2019-08-20 14:38:55</th>\n",
       "      <td>/</td>\n",
       "      <td>470</td>\n",
       "      <td>97.105.19.58</td>\n",
       "      <td>Bayes</td>\n",
       "      <td>2019-08-19</td>\n",
       "      <td>2020-01-30</td>\n",
       "      <td>Data Science</td>\n",
       "    </tr>\n",
       "    <tr>\n",
       "      <th>...</th>\n",
       "      <td>...</td>\n",
       "      <td>...</td>\n",
       "      <td>...</td>\n",
       "      <td>...</td>\n",
       "      <td>...</td>\n",
       "      <td>...</td>\n",
       "      <td>...</td>\n",
       "    </tr>\n",
       "    <tr>\n",
       "      <th>2020-12-07 15:20:18</th>\n",
       "      <td>regression/project</td>\n",
       "      <td>841</td>\n",
       "      <td>99.162.244.233</td>\n",
       "      <td>Easley</td>\n",
       "      <td>2020-12-07</td>\n",
       "      <td>2021-06-08</td>\n",
       "      <td>Data Science</td>\n",
       "    </tr>\n",
       "    <tr>\n",
       "      <th>2020-12-07 15:20:18</th>\n",
       "      <td>regression/project</td>\n",
       "      <td>841</td>\n",
       "      <td>99.162.244.233</td>\n",
       "      <td>Easley</td>\n",
       "      <td>2020-12-07</td>\n",
       "      <td>2021-06-08</td>\n",
       "      <td>Data Science</td>\n",
       "    </tr>\n",
       "    <tr>\n",
       "      <th>2020-12-07 15:20:18</th>\n",
       "      <td>/</td>\n",
       "      <td>143</td>\n",
       "      <td>173.174.194.60</td>\n",
       "      <td>Easley</td>\n",
       "      <td>2020-12-07</td>\n",
       "      <td>2021-06-08</td>\n",
       "      <td>Data Science</td>\n",
       "    </tr>\n",
       "    <tr>\n",
       "      <th>2020-12-07 15:20:18</th>\n",
       "      <td>clustering/project</td>\n",
       "      <td>841</td>\n",
       "      <td>99.162.244.233</td>\n",
       "      <td>Easley</td>\n",
       "      <td>2020-12-07</td>\n",
       "      <td>2021-06-08</td>\n",
       "      <td>Data Science</td>\n",
       "    </tr>\n",
       "    <tr>\n",
       "      <th>2020-12-07 15:20:18</th>\n",
       "      <td>clustering/project</td>\n",
       "      <td>841</td>\n",
       "      <td>99.162.244.233</td>\n",
       "      <td>Easley</td>\n",
       "      <td>2020-12-07</td>\n",
       "      <td>2021-06-08</td>\n",
       "      <td>Data Science</td>\n",
       "    </tr>\n",
       "  </tbody>\n",
       "</table>\n",
       "<p>103411 rows × 7 columns</p>\n",
       "</div>"
      ],
      "text/plain": [
       "                                   path  user              ip  cohort  \\\n",
       "created_at                                                              \n",
       "2019-08-20 14:38:55                   /   466    97.105.19.58   Bayes   \n",
       "2019-08-20 14:38:55                   /   467    97.105.19.58   Bayes   \n",
       "2019-08-20 14:38:55                   /   468    97.105.19.58   Bayes   \n",
       "2019-08-20 14:38:55                   /   469    97.105.19.58   Bayes   \n",
       "2019-08-20 14:38:55                   /   470    97.105.19.58   Bayes   \n",
       "...                                 ...   ...             ...     ...   \n",
       "2020-12-07 15:20:18  regression/project   841  99.162.244.233  Easley   \n",
       "2020-12-07 15:20:18  regression/project   841  99.162.244.233  Easley   \n",
       "2020-12-07 15:20:18                   /   143  173.174.194.60  Easley   \n",
       "2020-12-07 15:20:18  clustering/project   841  99.162.244.233  Easley   \n",
       "2020-12-07 15:20:18  clustering/project   841  99.162.244.233  Easley   \n",
       "\n",
       "                    start_date   end_date       program  \n",
       "created_at                                               \n",
       "2019-08-20 14:38:55 2019-08-19 2020-01-30  Data Science  \n",
       "2019-08-20 14:38:55 2019-08-19 2020-01-30  Data Science  \n",
       "2019-08-20 14:38:55 2019-08-19 2020-01-30  Data Science  \n",
       "2019-08-20 14:38:55 2019-08-19 2020-01-30  Data Science  \n",
       "2019-08-20 14:38:55 2019-08-19 2020-01-30  Data Science  \n",
       "...                        ...        ...           ...  \n",
       "2020-12-07 15:20:18 2020-12-07 2021-06-08  Data Science  \n",
       "2020-12-07 15:20:18 2020-12-07 2021-06-08  Data Science  \n",
       "2020-12-07 15:20:18 2020-12-07 2021-06-08  Data Science  \n",
       "2020-12-07 15:20:18 2020-12-07 2021-06-08  Data Science  \n",
       "2020-12-07 15:20:18 2020-12-07 2021-06-08  Data Science  \n",
       "\n",
       "[103411 rows x 7 columns]"
      ]
     },
     "execution_count": 71,
     "metadata": {},
     "output_type": "execute_result"
    }
   ],
   "source": [
    "df[(df.program == 'Data Science')]"
   ]
  },
  {
   "cell_type": "markdown",
   "id": "da33ed18-fe45-4696-ac6c-d2a7d3b983be",
   "metadata": {},
   "source": [
    "#### For our Data Science program, our students appear to only use the curriculum during the course and have no outside utilization."
   ]
  },
  {
   "cell_type": "markdown",
   "id": "e5518408-aaea-40eb-8995-8d020d5c6a9f",
   "metadata": {},
   "source": [
    "## 6. Which lessons are least accessed?"
   ]
  },
  {
   "cell_type": "markdown",
   "id": "bfadc93b-1fd3-4b64-b057-01fffe89fb42",
   "metadata": {},
   "source": [
    "### Web Dev Cohorts"
   ]
  },
  {
   "cell_type": "markdown",
   "id": "a1adba5e-b22b-458f-a4d6-8bbb5fd8e3db",
   "metadata": {},
   "source": [
    "def bot_twen(cohort_list):\n",
    "    for c in cohort_list.index:\n",
    "        print(f'Bottom 20 Hits for {c} Cohort:\\n\\\n",
    "        {(df.path[df.cohort == c].value_counts().tail(20))}\\n')"
   ]
  },
  {
   "cell_type": "code",
   "execution_count": 123,
   "id": "79cb24f7-110d-4721-806f-ef910234f554",
   "metadata": {
    "tags": []
   },
   "outputs": [
    {
     "data": {
      "text/plain": [
       "path\n",
       "javascript-with-html                                1\n",
       "Pipeline_Demo                                       1\n",
       "3.10-more-exercises                                 1\n",
       "4.6.1_introduction_to_matplotlib                    1\n",
       "10.2_Regex                                          1\n",
       "13.5_Tableau                                        1\n",
       "Intro_to_Regression                                 1\n",
       "ordinary_least_squares.jpeg                         1\n",
       "content/examples/constructors-destructors.html      1\n",
       "content/jquery/essential-methods/traversing.html    1\n",
       "content/jquery/events/gitbook/images/favicon.ico    1\n",
       "11._DistributedML.md                                1\n",
       "content/jquery/events/mouse-events.html             1\n",
       "content/jquery/events/keyboard-events.html          1\n",
       "html-css/bootstrap-grid-system                      1\n",
       "students                                            1\n",
       "appendix/extra-challenges/locations                 1\n",
       "appendix/extra-challenges/trains                    1\n",
       "content/examples/javascript/conditionals.html       1\n",
       "content/examples/javascript/primitive-types.html    1\n",
       "content/mysql/intro-to-mysql/index.html             1\n",
       "prework/fundamentals/function                       1\n",
       "content/html-css/elements-i/lists.html              1\n",
       "prework/fundamentals/loop                           1\n",
       "prework/fundamentals/if-statement                   1\n",
       "4.0_overview                                        1\n",
       "4.1_introduction                                    1\n",
       "4.4_functions                                       1\n",
       "4.5_imports                                         1\n",
       "ajax-api-request.html                               1\n",
       "Name: count, dtype: int64"
      ]
     },
     "execution_count": 123,
     "metadata": {},
     "output_type": "execute_result"
    }
   ],
   "source": [
    "df.path[(df.program == 'Web Dev - PHP')].value_counts().tail(30)"
   ]
  },
  {
   "cell_type": "code",
   "execution_count": 124,
   "id": "c470dac2-af97-4807-9cc8-2f02c43ea43b",
   "metadata": {
    "tags": []
   },
   "outputs": [
    {
     "data": {
      "text/plain": [
       "path\n",
       "11.04_Modeling.md                                            1\n",
       "11.03_Explore.md                                             1\n",
       "capstone/54                                                  1\n",
       "htmle-css/elements                                           1\n",
       "Exercises                                                    1\n",
       "html                                                         1\n",
       "student/850                                                  1\n",
       "student/202                                                  1\n",
       "student/120                                                  1\n",
       "arash-arghavan                                               1\n",
       "jquery/ajax/requests-and-responses/.json                     1\n",
       "data-science                                                 1\n",
       "data-1                                                       1\n",
       "bonus-exercises                                              1\n",
       "11.01.02_DataAcquisition                                     1\n",
       "javascript-i/loops/google.com                                1\n",
       "content/examples/examples/html/gitbook/images/favicon.ico    1\n",
       "content/examples/html/gitbook/images/favicon.ico             1\n",
       "examples/twitter.html                                        1\n",
       "examples/css/%252e%252e%255c                                 1\n",
       "examples/css/..%255c                                         1\n",
       "examples/css/..%c0%af                                        1\n",
       "examples/css/..%5c                                           1\n",
       "115                                                          1\n",
       "133                                                          1\n",
       "131                                                          1\n",
       "132                                                          1\n",
       "130                                                          1\n",
       "html-css/elecments                                           1\n",
       "spring/services                                              1\n",
       "Name: count, dtype: int64"
      ]
     },
     "execution_count": 124,
     "metadata": {},
     "output_type": "execute_result"
    }
   ],
   "source": [
    "df.path[(df.program == 'Web Dev - Java')].value_counts().tail(30)"
   ]
  },
  {
   "cell_type": "code",
   "execution_count": 125,
   "id": "215387f2-2b76-437c-9a6a-306e99f141ac",
   "metadata": {
    "tags": []
   },
   "outputs": [
    {
     "data": {
      "text/plain": [
       "path\n",
       "content/html-css                               2\n",
       "/                                              1\n",
       "content/html-css/gitbook/images/favicon.ico    1\n",
       "content/html-css/introduction.html             1\n",
       "Name: count, dtype: int64"
      ]
     },
     "execution_count": 125,
     "metadata": {},
     "output_type": "execute_result"
    }
   ],
   "source": [
    "df.path[(df.program == 'Front End Web Dev')].value_counts().tail(30)"
   ]
  },
  {
   "cell_type": "markdown",
   "id": "54333da5-1235-4f54-9bc2-6b3590e70dd3",
   "metadata": {},
   "source": [
    "#### Although we had many cases where there was only one hit to content in the curriculum, when it came to our web dev programs, both our Java and PHP web dev cohorts had entries from what appears to be example content for 'gitbook/images'. Both paths are indicated as lesson content but appear to be supportive content and not necessary based off the lack of usage."
   ]
  },
  {
   "cell_type": "markdown",
   "id": "c5d2b8d0-926f-4f90-aaaf-6c413eee4d5a",
   "metadata": {},
   "source": [
    "### Data Science Cohorts"
   ]
  },
  {
   "cell_type": "code",
   "execution_count": 127,
   "id": "a063c602-eacc-45b7-ae56-45cc3b74461f",
   "metadata": {
    "tags": []
   },
   "outputs": [
    {
     "data": {
      "text/plain": [
       "path\n",
       "4.2-compare-means                                        1\n",
       "curie-statistics-assessment                              1\n",
       "stats-assessment                                         1\n",
       "statistics-assessment                                    1\n",
       "%20https://github.com/RaulCPena                          1\n",
       ",%20https://github.com/RaulCPena                         1\n",
       "A-clustering/project                                     1\n",
       "b-clustering/project                                     1\n",
       "appendix/www.opensecrets.org                             1\n",
       "grades/getUserDetails/916/3                              1\n",
       "grades                                                   1\n",
       "java-ii/object-oriented-programming                      1\n",
       "appendix/open_data/www.census.gov                        1\n",
       "database-design                                          1\n",
       "2-storytelling/chart-types                               1\n",
       "itc-ml                                                   1\n",
       "misleading1_fox.jpg                                      1\n",
       "appendix/open_data/www.flickr.com/services/api           1\n",
       "7-classification/confusion-matrix                        1\n",
       "7-classification/svm                                     1\n",
       "3-sql                                                    1\n",
       "regression/project/null                                  1\n",
       "cli/4-navigating-the-filesystem                          1\n",
       "appendix/open_data/www.openstreetmap.org                 1\n",
       "appendix/cli/2-overview                                  1\n",
       "5-stats/4.2-compare-means/null                           1\n",
       "appendix/cli/2-Overview                                  1\n",
       "appendix/cls/2-listing-files                             1\n",
       "misleading3_deaths.jpg                                   1\n",
       ".gitignore                                               1\n",
       "fundamentals/1-fundamentals/modern-data-scientist.jpg    1\n",
       "appendix/interview-questions-students                    1\n",
       "3-vocabulary                                             1\n",
       "9-timeseries/6.1-parametric-modeling                     1\n",
       "9-timeseries/6.2-prophet                                 1\n",
       "12-distributed-ml/3-getting-started                      1\n",
       "12-distributed-ml/4-acquire                              1\n",
       "12-distributed-ml/5-inspect                              1\n",
       "12-distributed-ml/6.1-prepare-part-1                     1\n",
       "12-distributed-ml/6.2-prepare-part-2                     1\n",
       "12-distributed-ml/6.3-prepare-part-3                     1\n",
       "12-distributed-ml/6.4-prepare-part-4                     1\n",
       "12-distributed-ml/8.1-classification                     1\n",
       "7.4.1-pandas-overview                                    1\n",
       "7.4.2-series                                             1\n",
       "python/custom-sorting-functions                          1\n",
       "imports                                                  1\n",
       "java-i/console-io                                        1\n",
       "appendix/univariate_regression_in_excel                  1\n",
       "6-regression/8-Project                                   1\n",
       "Name: count, dtype: int64"
      ]
     },
     "execution_count": 127,
     "metadata": {},
     "output_type": "execute_result"
    }
   ],
   "source": [
    "df.path[(df.program == 'Data Science')].value_counts().tail(50)"
   ]
  },
  {
   "cell_type": "markdown",
   "id": "6a9d7225-8eba-4803-944d-913724b8f491",
   "metadata": {},
   "source": [
    "#### For our Data Science program, we also showed a lot of content with one time usage, a lot of this appeared to be methodology sublessons. The lesson content that stood out as the least likely to be accessed was lessons on javascript."
   ]
  }
 ],
 "metadata": {
  "kernelspec": {
   "display_name": "Python 3 (ipykernel)",
   "language": "python",
   "name": "python3"
  },
  "language_info": {
   "codemirror_mode": {
    "name": "ipython",
    "version": 3
   },
   "file_extension": ".py",
   "mimetype": "text/x-python",
   "name": "python",
   "nbconvert_exporter": "python",
   "pygments_lexer": "ipython3",
   "version": "3.11.3"
  }
 },
 "nbformat": 4,
 "nbformat_minor": 5
}
